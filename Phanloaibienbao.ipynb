{
  "nbformat": 4,
  "nbformat_minor": 0,
  "metadata": {
    "colab": {
      "name": "Phanloaibienbao.ipynb",
      "provenance": []
    },
    "kernelspec": {
      "name": "python3",
      "display_name": "Python 3"
    }
  },
  "cells": [
    {
      "cell_type": "code",
      "metadata": {
        "id": "mj6bTveS3qke",
        "colab_type": "code",
        "colab": {
          "base_uri": "https://localhost:8080/",
          "height": 34
        },
        "outputId": "0b5a37cc-53f5-472a-d2bf-2a871952f3c5"
      },
      "source": [
        "import tensorflow as tf\n",
        "tf.version\n"
      ],
      "execution_count": null,
      "outputs": [
        {
          "output_type": "execute_result",
          "data": {
            "text/plain": [
              "<module 'tensorflow._api.v2.version' from '/usr/local/lib/python3.6/dist-packages/tensorflow/_api/v2/version/__init__.py'>"
            ]
          },
          "metadata": {
            "tags": []
          },
          "execution_count": 3
        }
      ]
    },
    {
      "cell_type": "code",
      "metadata": {
        "id": "48cTAnXO4yge",
        "colab_type": "code",
        "colab": {
          "base_uri": "https://localhost:8080/",
          "height": 34
        },
        "outputId": "c05afee5-367d-4d43-cfa9-b34b8b1faf4e"
      },
      "source": [
        "tf.__version__"
      ],
      "execution_count": null,
      "outputs": [
        {
          "output_type": "execute_result",
          "data": {
            "text/plain": [
              "'2.2.0-rc3'"
            ]
          },
          "metadata": {
            "tags": []
          },
          "execution_count": 4
        }
      ]
    },
    {
      "cell_type": "code",
      "metadata": {
        "id": "m61fE-xP49n5",
        "colab_type": "code",
        "colab": {
          "base_uri": "https://localhost:8080/",
          "height": 54
        },
        "outputId": "aca40e23-a10c-4160-d785-dff0a3c00296"
      },
      "source": [
        "from google.colab import drive\n",
        "drive.mount(\"/content/drive\")"
      ],
      "execution_count": null,
      "outputs": [
        {
          "output_type": "stream",
          "text": [
            "Drive already mounted at /content/drive; to attempt to forcibly remount, call drive.mount(\"/content/drive\", force_remount=True).\n"
          ],
          "name": "stdout"
        }
      ]
    },
    {
      "cell_type": "code",
      "metadata": {
        "id": "F3rwUXXN5jVV",
        "colab_type": "code",
        "colab": {
          "base_uri": "https://localhost:8080/",
          "height": 50
        },
        "outputId": "192df017-dee8-47f9-d8a1-43d3140dae0e"
      },
      "source": [
        "cd /content/drive/ComputerVision\n"
      ],
      "execution_count": null,
      "outputs": [
        {
          "output_type": "stream",
          "text": [
            "[Errno 2] No such file or directory: '/content/drive/ComputerVision'\n",
            "/content\n"
          ],
          "name": "stdout"
        }
      ]
    },
    {
      "cell_type": "code",
      "metadata": {
        "id": "r0K6rkN06B_a",
        "colab_type": "code",
        "colab": {
          "base_uri": "https://localhost:8080/",
          "height": 34
        },
        "outputId": "72adc4b1-abb9-455a-ac8f-1fa839cd17f7"
      },
      "source": [
        "cd /content/drive/My Drive/ComputerVision"
      ],
      "execution_count": null,
      "outputs": [
        {
          "output_type": "stream",
          "text": [
            "/content/drive/My Drive/ComputerVision\n"
          ],
          "name": "stdout"
        }
      ]
    },
    {
      "cell_type": "code",
      "metadata": {
        "id": "8T7QXAGJ6JDP",
        "colab_type": "code",
        "colab": {
          "base_uri": "https://localhost:8080/",
          "height": 34
        },
        "outputId": "26768f51-0369-4163-c242-fab0b2b04fd3"
      },
      "source": [
        "pwd\n"
      ],
      "execution_count": null,
      "outputs": [
        {
          "output_type": "execute_result",
          "data": {
            "text/plain": [
              "'/content/drive/My Drive/ComputerVision'"
            ]
          },
          "metadata": {
            "tags": []
          },
          "execution_count": 8
        }
      ]
    },
    {
      "cell_type": "code",
      "metadata": {
        "id": "3ILhvUjQ6KbS",
        "colab_type": "code",
        "colab": {
          "base_uri": "https://localhost:8080/",
          "height": 34
        },
        "outputId": "ab931378-2021-4b28-edf4-f9e5c3970700"
      },
      "source": [
        "%ls"
      ],
      "execution_count": null,
      "outputs": [
        {
          "output_type": "stream",
          "text": [
            "test.p  traffic-signs-data.zip  train.p  Untitled0.ipynb  valid.p\n"
          ],
          "name": "stdout"
        }
      ]
    },
    {
      "cell_type": "code",
      "metadata": {
        "id": "hZS6iBEB6MKl",
        "colab_type": "code",
        "colab": {
          "base_uri": "https://localhost:8080/",
          "height": 188
        },
        "outputId": "65bfafbd-1461-49fc-8332-a9309b609c59"
      },
      "source": [
        "pip install wget"
      ],
      "execution_count": null,
      "outputs": [
        {
          "output_type": "stream",
          "text": [
            "Collecting wget\n",
            "  Downloading https://files.pythonhosted.org/packages/47/6a/62e288da7bcda82b935ff0c6cfe542970f04e29c756b0e147251b2fb251f/wget-3.2.zip\n",
            "Building wheels for collected packages: wget\n",
            "  Building wheel for wget (setup.py) ... \u001b[?25l\u001b[?25hdone\n",
            "  Created wheel for wget: filename=wget-3.2-cp36-none-any.whl size=9682 sha256=b0b0c231a1fc91e2bb10cbc6a66bacbd38d0993a9cac86c52d437a47e7a36382\n",
            "  Stored in directory: /root/.cache/pip/wheels/40/15/30/7d8f7cea2902b4db79e3fea550d7d7b85ecb27ef992b618f3f\n",
            "Successfully built wget\n",
            "Installing collected packages: wget\n",
            "Successfully installed wget-3.2\n"
          ],
          "name": "stdout"
        }
      ]
    },
    {
      "cell_type": "code",
      "metadata": {
        "id": "FwABoFRy6cMT",
        "colab_type": "code",
        "colab": {}
      },
      "source": [
        "import wget\n",
        "link=\"https://d17h27t6h515a5.cloudfront.net/topher/2017/February/5898cd6f_traffic-signs-data/traffic-signs-data.zip\""
      ],
      "execution_count": null,
      "outputs": []
    },
    {
      "cell_type": "code",
      "metadata": {
        "id": "c7zSWxxa6f9O",
        "colab_type": "code",
        "colab": {
          "base_uri": "https://localhost:8080/",
          "height": 162
        },
        "outputId": "be1ed960-4eed-40a0-ab36-665bf8d70052"
      },
      "source": [
        "wget.download(link)"
      ],
      "execution_count": null,
      "outputs": [
        {
          "output_type": "error",
          "ename": "NameError",
          "evalue": "ignored",
          "traceback": [
            "\u001b[0;31m---------------------------------------------------------------------------\u001b[0m",
            "\u001b[0;31mNameError\u001b[0m                                 Traceback (most recent call last)",
            "\u001b[0;32m<ipython-input-12-e4a59e4629d4>\u001b[0m in \u001b[0;36m<module>\u001b[0;34m()\u001b[0m\n\u001b[0;32m----> 1\u001b[0;31m \u001b[0mwget\u001b[0m\u001b[0;34m.\u001b[0m\u001b[0mdownload\u001b[0m\u001b[0;34m(\u001b[0m\u001b[0mlink\u001b[0m\u001b[0;34m)\u001b[0m\u001b[0;34m\u001b[0m\u001b[0;34m\u001b[0m\u001b[0m\n\u001b[0m",
            "\u001b[0;31mNameError\u001b[0m: name 'link' is not defined"
          ]
        }
      ]
    },
    {
      "cell_type": "code",
      "metadata": {
        "id": "Eh1zDHEN6hw6",
        "colab_type": "code",
        "colab": {}
      },
      "source": [
        "data=\"./\""
      ],
      "execution_count": null,
      "outputs": []
    },
    {
      "cell_type": "code",
      "metadata": {
        "id": "Mo_te68Q6pJ_",
        "colab_type": "code",
        "colab": {}
      },
      "source": [
        "!unzip -q traffic-signs-data.zip -d $data"
      ],
      "execution_count": null,
      "outputs": []
    },
    {
      "cell_type": "code",
      "metadata": {
        "id": "pS18l2aA6xIP",
        "colab_type": "code",
        "colab": {}
      },
      "source": [
        "train_link=data+\"train.p\"\n",
        "valid_link=data+\"valid.p\"\n",
        "test_link=data+\"test.p\""
      ],
      "execution_count": null,
      "outputs": []
    },
    {
      "cell_type": "code",
      "metadata": {
        "id": "yDbQsSck7NIj",
        "colab_type": "code",
        "colab": {}
      },
      "source": [
        "import pickle\n"
      ],
      "execution_count": null,
      "outputs": []
    },
    {
      "cell_type": "code",
      "metadata": {
        "id": "HOOk2ZJN7P-0",
        "colab_type": "code",
        "colab": {}
      },
      "source": [
        "with open(train_link,mode=\"rb\") as f:\n",
        "  train=pickle.load(f)\n",
        "  "
      ],
      "execution_count": null,
      "outputs": []
    },
    {
      "cell_type": "code",
      "metadata": {
        "id": "DLFZ9NLa7YBj",
        "colab_type": "code",
        "colab": {}
      },
      "source": [
        "with open(valid_link,mode=\"rb\") as f:\n",
        "  valid=pickle.load(f)\n",
        "  "
      ],
      "execution_count": null,
      "outputs": []
    },
    {
      "cell_type": "code",
      "metadata": {
        "id": "StSHK2oy7g5M",
        "colab_type": "code",
        "colab": {}
      },
      "source": [
        "with open(test_link,mode=\"rb\") as f:\n",
        "  test=pickle.load(f)"
      ],
      "execution_count": null,
      "outputs": []
    },
    {
      "cell_type": "code",
      "metadata": {
        "id": "iFfjPqWy7mIu",
        "colab_type": "code",
        "colab": {}
      },
      "source": [
        "import numpy as np\n",
        "import matplotlib.pyplot as plt\n"
      ],
      "execution_count": null,
      "outputs": []
    },
    {
      "cell_type": "code",
      "metadata": {
        "id": "b3uCcAyM7t1v",
        "colab_type": "code",
        "colab": {}
      },
      "source": [
        "trainX=train[\"features\"]\n",
        "trainy=train[\"labels\"]"
      ],
      "execution_count": null,
      "outputs": []
    },
    {
      "cell_type": "code",
      "metadata": {
        "id": "pCuxOa7f8BLD",
        "colab_type": "code",
        "colab": {}
      },
      "source": [
        "validX=valid[\"features\"]\n",
        "validy=valid[\"labels\"]"
      ],
      "execution_count": null,
      "outputs": []
    },
    {
      "cell_type": "code",
      "metadata": {
        "id": "FlaJ3WlC71qb",
        "colab_type": "code",
        "colab": {}
      },
      "source": [
        "testX=test[\"features\"]\n",
        "testy=test[\"labels\"]"
      ],
      "execution_count": null,
      "outputs": []
    },
    {
      "cell_type": "code",
      "metadata": {
        "id": "Tg6MXMmh7_d9",
        "colab_type": "code",
        "colab": {
          "base_uri": "https://localhost:8080/",
          "height": 283
        },
        "outputId": "b36c1719-f4b1-4076-d7ec-ad9f027e5dae"
      },
      "source": [
        "plt.imshow(trainX[0])\n"
      ],
      "execution_count": null,
      "outputs": [
        {
          "output_type": "execute_result",
          "data": {
            "text/plain": [
              "<matplotlib.image.AxesImage at 0x7f3ccebe71d0>"
            ]
          },
          "metadata": {
            "tags": []
          },
          "execution_count": 33
        },
        {
          "output_type": "display_data",
          "data": {
            "image/png": "[encoded data removed]",
            "text/plain": [
              "<Figure size 432x288 with 1 Axes>"
            ]
          },
          "metadata": {
            "tags": [],
            "needs_background": "light"
          }
        }
      ]
    },
    {
      "cell_type": "code",
      "metadata": {
        "id": "MtMjyWttisaj",
        "colab_type": "code",
        "colab": {
          "base_uri": "https://localhost:8080/",
          "height": 34
        },
        "outputId": "976f72ca-ba21-4b11-e77f-659b8beb1ab6"
      },
      "source": [
        "trainX.shape[0]"
      ],
      "execution_count": null,
      "outputs": [
        {
          "output_type": "execute_result",
          "data": {
            "text/plain": [
              "34799"
            ]
          },
          "metadata": {
            "tags": []
          },
          "execution_count": 90
        }
      ]
    },
    {
      "cell_type": "code",
      "metadata": {
        "id": "MfyDYsvN8Lx6",
        "colab_type": "code",
        "colab": {}
      },
      "source": [
        "from sklearn.utils import shuffle\n",
        "\n"
      ],
      "execution_count": null,
      "outputs": []
    },
    {
      "cell_type": "code",
      "metadata": {
        "id": "ZDDK3FBuCANt",
        "colab_type": "code",
        "colab": {}
      },
      "source": [
        "trainX,trainy=shuffle(trainX,trainy)"
      ],
      "execution_count": null,
      "outputs": []
    },
    {
      "cell_type": "code",
      "metadata": {
        "id": "5XiA7Z2cD32i",
        "colab_type": "code",
        "colab": {
          "base_uri": "https://localhost:8080/",
          "height": 283
        },
        "outputId": "e70fdce8-c218-40d7-ea22-0d84e41b9241"
      },
      "source": [
        "plt.imshow(trainX[0])"
      ],
      "execution_count": null,
      "outputs": [
        {
          "output_type": "execute_result",
          "data": {
            "text/plain": [
              "<matplotlib.image.AxesImage at 0x7f3c66a1b240>"
            ]
          },
          "metadata": {
            "tags": []
          },
          "execution_count": 94
        },
        {
          "output_type": "display_data",
          "data": {
            "image/png": "[encoded data removed]",
            "text/plain": [
              "<Figure size 432x288 with 1 Axes>"
            ]
          },
          "metadata": {
            "tags": [],
            "needs_background": "light"
          }
        }
      ]
    },
    {
      "cell_type": "code",
      "metadata": {
        "id": "bcBBtKpvEHt6",
        "colab_type": "code",
        "colab": {}
      },
      "source": [
        "classNames = {0: 'Speed limit (20km/h)',\n",
        " 1: 'Speed limit (30km/h)',\n",
        " 2: 'Speed limit (50km/h)',\n",
        " 3: 'Speed limit (60km/h)',\n",
        " 4: 'Speed limit (70km/h)',\n",
        " 5: 'Speed limit (80km/h)',\n",
        " 6: 'End of speed limit (80km/h)',\n",
        " 7: 'Speed limit (100km/h)',\n",
        " 8: 'Speed limit (120km/h)',\n",
        " 9: 'No passing',\n",
        " 10: 'No passing for vehicles over 3.5 metric tons',\n",
        " 11: 'Right-of-way at the next intersection',\n",
        " 12: 'Priority road',\n",
        " 13: 'Yield',\n",
        " 14: 'Stop',\n",
        " 15: 'No vehicles',\n",
        " 16: 'Vehicles over 3.5 metric tons prohibited',\n",
        " 17: 'No entry',\n",
        " 18: 'General caution',\n",
        " 19: 'Dangerous curve to the left',\n",
        " 20: 'Dangerous curve to the right',\n",
        " 21: 'Double curve',\n",
        " 22: 'Bumpy road',\n",
        " 23: 'Slippery road',\n",
        " 24: 'Road narrows on the right',\n",
        " 25: 'Road work',\n",
        " 26: 'Traffic signals',\n",
        " 27: 'Pedestrians',\n",
        " 28: 'Children crossing',\n",
        " 29: 'Bicycles crossing',\n",
        " 30: 'Beware of ice/snow',\n",
        " 31: 'Wild animals crossing',\n",
        " 32: 'End of all speed and passing limits',\n",
        " 33: 'Turn right ahead',\n",
        " 34: 'Turn left ahead',\n",
        " 35: 'Ahead only',\n",
        " 36: 'Go straight or right',\n",
        " 37: 'Go straight or left',\n",
        " 38: 'Keep right',\n",
        " 39: 'Keep left',\n",
        " 40: 'Roundabout mandatory',\n",
        " 41: 'End of no passing',\n",
        " 42: 'End of no passing by vehicles over 3.5 metric tons'}\n"
      ],
      "execution_count": null,
      "outputs": []
    },
    {
      "cell_type": "code",
      "metadata": {
        "id": "-IyjdT5gEJLc",
        "colab_type": "code",
        "colab": {
          "base_uri": "https://localhost:8080/",
          "height": 283
        },
        "outputId": "834ec501-4821-4ad6-b52c-5cc33514b8b3"
      },
      "source": [
        "plt.imshow(trainX[1])\n",
        "print(classNames[trainy[1]])"
      ],
      "execution_count": null,
      "outputs": [
        {
          "output_type": "stream",
          "text": [
            "Keep right\n"
          ],
          "name": "stdout"
        },
        {
          "output_type": "display_data",
          "data": {
            "image/png": "[encoded data removed]",
            "text/plain": [
              "<Figure size 432x288 with 1 Axes>"
            ]
          },
          "metadata": {
            "tags": [],
            "needs_background": "light"
          }
        }
      ]
    },
    {
      "cell_type": "code",
      "metadata": {
        "id": "Oy4i9k9C8S48",
        "colab_type": "code",
        "colab": {
          "base_uri": "https://localhost:8080/",
          "height": 118
        },
        "outputId": "e169b145-0bb9-43d8-89e2-7617ace1799f"
      },
      "source": [
        "# print all shape\n",
        "print(\"Shape of X_train\",trainX.shape)\n",
        "print(\"Shape of y_train\",trainy.shape)\n",
        "print(\"Shape of X_val\",validX.shape)\n",
        "print(\"Shape of y_val\",validy.shape)\n",
        "print(\"Shape of X_test\",testX.shape)\n",
        "print(\"Shape of y_test\",testy.shape)"
      ],
      "execution_count": null,
      "outputs": [
        {
          "output_type": "stream",
          "text": [
            "Shape of X_train (34799, 32, 32, 3)\n",
            "Shape of y_train (34799,)\n",
            "Shape of X_val (4410, 32, 32, 3)\n",
            "Shape of y_val (4410,)\n",
            "Shape of X_test (12630, 32, 32, 3)\n",
            "Shape of y_test (12630,)\n"
          ],
          "name": "stdout"
        }
      ]
    },
    {
      "cell_type": "code",
      "metadata": {
        "id": "7AHZelih8v0V",
        "colab_type": "code",
        "colab": {}
      },
      "source": [
        "# Normalize\n",
        "X_train=trainX/255.\n",
        "X_val=validX/255.\n",
        "X_test=testX/255."
      ],
      "execution_count": null,
      "outputs": []
    },
    {
      "cell_type": "code",
      "metadata": {
        "id": "KAdYzMuo8-Sm",
        "colab_type": "code",
        "colab": {}
      },
      "source": [
        "import numpy as np\n"
      ],
      "execution_count": null,
      "outputs": []
    },
    {
      "cell_type": "code",
      "metadata": {
        "id": "zmjtROYN9IPj",
        "colab_type": "code",
        "colab": {}
      },
      "source": [
        "#convert number to one hot coding\n",
        "y_train=trainy\n",
        "y_test=testy\n",
        "y_val=validy\n",
        "Y_train=np.zeros((X_train.shape[0],43))\n",
        "Y_val=np.zeros((X_val.shape[0],43))\n",
        "Y_test=np.zeros((X_test.shape[0],43))"
      ],
      "execution_count": null,
      "outputs": []
    },
    {
      "cell_type": "code",
      "metadata": {
        "id": "SaeymJMS-MDe",
        "colab_type": "code",
        "colab": {}
      },
      "source": [
        "list_idx=range(X_train.shape[0])\n",
        "Y_train[list_idx,y_train]=1\n"
      ],
      "execution_count": null,
      "outputs": []
    },
    {
      "cell_type": "code",
      "metadata": {
        "id": "TI0RqabP-NxK",
        "colab_type": "code",
        "colab": {}
      },
      "source": [
        "list_idx=range(X_val.shape[0])\n",
        "Y_val[list_idx,y_val]=1\n"
      ],
      "execution_count": null,
      "outputs": []
    },
    {
      "cell_type": "code",
      "metadata": {
        "id": "U8NZJ1CZ-6w5",
        "colab_type": "code",
        "colab": {}
      },
      "source": [
        "list_idx=range(X_test.shape[0])\n",
        "Y_test[list_idx,y_test]=1"
      ],
      "execution_count": null,
      "outputs": []
    },
    {
      "cell_type": "code",
      "metadata": {
        "id": "rbI6WVk0_yhr",
        "colab_type": "code",
        "colab": {
          "base_uri": "https://localhost:8080/",
          "height": 67
        },
        "outputId": "6f97b2a7-ea2b-4b34-e28e-7b5010766708"
      },
      "source": [
        "print(X_train.shape[0])\n",
        "print(X_val.shape[0])\n",
        "print(X_test.shape[0])"
      ],
      "execution_count": null,
      "outputs": [
        {
          "output_type": "stream",
          "text": [
            "34799\n",
            "4410\n",
            "12630\n"
          ],
          "name": "stdout"
        }
      ]
    },
    {
      "cell_type": "code",
      "metadata": {
        "id": "Q4tVXT0wEc1l",
        "colab_type": "code",
        "colab": {}
      },
      "source": [
        "from tensorflow import keras\n",
        "from keras.models import Model\n",
        "from keras.layers import Dense,Input,Flatten\n",
        "from keras.layers import Conv2D,MaxPool2D,BatchNormalization,Activation\n",
        "from keras import optimizers\n"
      ],
      "execution_count": null,
      "outputs": []
    },
    {
      "cell_type": "code",
      "metadata": {
        "id": "upfscm5PGA2q",
        "colab_type": "code",
        "colab": {}
      },
      "source": [
        "width=32\n",
        "height=32\n",
        "classes=3\n",
        "shape=(width,height,classes)\n",
        "inputs=Input(shape=shape)\n"
      ],
      "execution_count": null,
      "outputs": []
    },
    {
      "cell_type": "code",
      "metadata": {
        "id": "0wl6EHgWWXqV",
        "colab_type": "code",
        "colab": {}
      },
      "source": [
        "\n",
        "X=Conv2D(32,(3,3),padding=\"same\")(inputs)\n",
        "X=Activation(\"relu\")(X)\n",
        "X=BatchNormalization()(X)\n",
        "\n",
        "\n",
        "X=Conv2D(32,(3,3),padding=\"same\",activation=\"relu\")(X)\n",
        "X=BatchNormalization()(X)\n",
        "X=MaxPool2D(pool_size=(2,2))(X)\n",
        "\n",
        "X=Conv2D(64,(3,3),padding=\"same\",activation=\"relu\")(X)\n",
        "X=BatchNormalization()(X)\n",
        "\n",
        "X=Conv2D(64,(3,3),padding=\"same\",activation=\"relu\")(X)\n",
        "X=BatchNormalization()(X)\n",
        "X=MaxPool2D(pool_size=(2,2))(X)\n",
        "X=Flatten()(X)\n",
        "X=Activation(\"relu\")(X)\n",
        "\n",
        "X=Dense(units=512,activation=\"relu\")(X)\n",
        "X=Dense(units=43,activation=\"softmax\")(X)\n",
        "outputs=X\n",
        "\n"
      ],
      "execution_count": null,
      "outputs": []
    },
    {
      "cell_type": "code",
      "metadata": {
        "id": "MjSmOBtTXdTT",
        "colab_type": "code",
        "colab": {
          "base_uri": "https://localhost:8080/",
          "height": 689
        },
        "outputId": "14231833-6f62-47bb-e32e-ea7f634a7f8f"
      },
      "source": [
        "model=Model(inputs=inputs,outputs=outputs)\n",
        "model.summary()"
      ],
      "execution_count": null,
      "outputs": [
        {
          "output_type": "stream",
          "text": [
            "Model: \"model_10\"\n",
            "_________________________________________________________________\n",
            "Layer (type)                 Output Shape              Param #   \n",
            "=================================================================\n",
            "input_1 (InputLayer)         (None, 32, 32, 3)         0         \n",
            "_________________________________________________________________\n",
            "conv2d_68 (Conv2D)           (None, 32, 32, 32)        896       \n",
            "_________________________________________________________________\n",
            "activation_22 (Activation)   (None, 32, 32, 32)        0         \n",
            "_________________________________________________________________\n",
            "batch_normalization_66 (Batc (None, 32, 32, 32)        128       \n",
            "_________________________________________________________________\n",
            "conv2d_69 (Conv2D)           (None, 32, 32, 32)        9248      \n",
            "_________________________________________________________________\n",
            "batch_normalization_67 (Batc (None, 32, 32, 32)        128       \n",
            "_________________________________________________________________\n",
            "max_pooling2d_42 (MaxPooling (None, 16, 16, 32)        0         \n",
            "_________________________________________________________________\n",
            "conv2d_70 (Conv2D)           (None, 16, 16, 64)        18496     \n",
            "_________________________________________________________________\n",
            "batch_normalization_68 (Batc (None, 16, 16, 64)        256       \n",
            "_________________________________________________________________\n",
            "conv2d_71 (Conv2D)           (None, 16, 16, 64)        36928     \n",
            "_________________________________________________________________\n",
            "batch_normalization_69 (Batc (None, 16, 16, 64)        256       \n",
            "_________________________________________________________________\n",
            "max_pooling2d_43 (MaxPooling (None, 8, 8, 64)          0         \n",
            "_________________________________________________________________\n",
            "flatten_3 (Flatten)          (None, 4096)              0         \n",
            "_________________________________________________________________\n",
            "activation_23 (Activation)   (None, 4096)              0         \n",
            "_________________________________________________________________\n",
            "dense_17 (Dense)             (None, 512)               2097664   \n",
            "_________________________________________________________________\n",
            "dense_18 (Dense)             (None, 43)                22059     \n",
            "=================================================================\n",
            "Total params: 2,186,059\n",
            "Trainable params: 2,185,675\n",
            "Non-trainable params: 384\n",
            "_________________________________________________________________\n"
          ],
          "name": "stdout"
        }
      ]
    },
    {
      "cell_type": "code",
      "metadata": {
        "id": "r-S5X-aoXsIx",
        "colab_type": "code",
        "colab": {}
      },
      "source": [
        "from keras.preprocessing.image import ImageDataGenerator"
      ],
      "execution_count": null,
      "outputs": []
    },
    {
      "cell_type": "code",
      "metadata": {
        "id": "zDhYTLlJfGn2",
        "colab_type": "code",
        "colab": {}
      },
      "source": [
        "aug=ImageDataGenerator(rotation_range=0.18,zoom_range=0.15,width_shift_range=0.2,height_shift_range=0.2,horizontal_flip=True)\n"
      ],
      "execution_count": null,
      "outputs": []
    },
    {
      "cell_type": "code",
      "metadata": {
        "id": "5nU6NLDsgD5p",
        "colab_type": "code",
        "colab": {}
      },
      "source": [
        "lr=0.01\n"
      ],
      "execution_count": null,
      "outputs": []
    },
    {
      "cell_type": "code",
      "metadata": {
        "id": "3HEUNpGogSa-",
        "colab_type": "code",
        "colab": {}
      },
      "source": [
        "epochs=10\n",
        "batch_size=64\n"
      ],
      "execution_count": null,
      "outputs": []
    },
    {
      "cell_type": "code",
      "metadata": {
        "id": "tK5HugSRggrD",
        "colab_type": "code",
        "colab": {}
      },
      "source": [
        "opt=optimizers.SGD(learning_rate=lr,momentum=0.9,nesterov=True)\n",
        "model.compile(optimizer=opt,loss=keras.losses.categorical_crossentropy,metrics=[\"accuracy\"])\n"
      ],
      "execution_count": null,
      "outputs": []
    },
    {
      "cell_type": "code",
      "metadata": {
        "id": "IpbBCOGphSnk",
        "colab_type": "code",
        "colab": {
          "base_uri": "https://localhost:8080/",
          "height": 390
        },
        "outputId": "a490c758-0c94-4fe1-d36b-8390cb569a1e"
      },
      "source": [
        "print(\"Start train\")\n",
        "H=model.fit_generator(aug.flow(X_train,Y_train,batch_size=batch_size),validation_data=(X_val,Y_val),steps_per_epoch=X_train.shape[0]//batch_size,epochs=epochs,verbose=1)\n"
      ],
      "execution_count": null,
      "outputs": [
        {
          "output_type": "stream",
          "text": [
            "Start train\n",
            "Epoch 1/10\n",
            "543/543 [==============================] - 28s 51ms/step - loss: 1.8561 - accuracy: 0.4316 - val_loss: 1.6003 - val_accuracy: 0.5238\n",
            "Epoch 2/10\n",
            "543/543 [==============================] - 21s 38ms/step - loss: 0.8405 - accuracy: 0.7140 - val_loss: 1.3181 - val_accuracy: 0.6154\n",
            "Epoch 3/10\n",
            "543/543 [==============================] - 21s 39ms/step - loss: 0.4241 - accuracy: 0.8549 - val_loss: 0.9762 - val_accuracy: 0.7556\n",
            "Epoch 4/10\n",
            "543/543 [==============================] - 21s 38ms/step - loss: 0.2547 - accuracy: 0.9144 - val_loss: 0.7158 - val_accuracy: 0.8154\n",
            "Epoch 5/10\n",
            "543/543 [==============================] - 21s 38ms/step - loss: 0.1735 - accuracy: 0.9415 - val_loss: 0.6782 - val_accuracy: 0.8200\n",
            "Epoch 6/10\n",
            "543/543 [==============================] - 21s 38ms/step - loss: 0.1309 - accuracy: 0.9557 - val_loss: 0.5997 - val_accuracy: 0.8587\n",
            "Epoch 7/10\n",
            "543/543 [==============================] - 21s 39ms/step - loss: 0.1003 - accuracy: 0.9663 - val_loss: 0.5708 - val_accuracy: 0.8735\n",
            "Epoch 8/10\n",
            "543/543 [==============================] - 21s 38ms/step - loss: 0.0861 - accuracy: 0.9718 - val_loss: 0.7092 - val_accuracy: 0.8540\n",
            "Epoch 9/10\n",
            "543/543 [==============================] - 21s 39ms/step - loss: 0.0710 - accuracy: 0.9762 - val_loss: 0.6620 - val_accuracy: 0.8701\n",
            "Epoch 10/10\n",
            "543/543 [==============================] - 21s 38ms/step - loss: 0.0699 - accuracy: 0.9767 - val_loss: 0.5525 - val_accuracy: 0.8934\n"
          ],
          "name": "stdout"
        }
      ]
    },
    {
      "cell_type": "code",
      "metadata": {
        "id": "4qz-X11liS7u",
        "colab_type": "code",
        "colab": {
          "base_uri": "https://localhost:8080/",
          "height": 34
        },
        "outputId": "20b85f24-ff4d-4538-e1a2-4479310a24e8"
      },
      "source": [
        "scores=model.evaluate(X_test,Y_test)\n"
      ],
      "execution_count": null,
      "outputs": [
        {
          "output_type": "stream",
          "text": [
            "12630/12630 [==============================] - 2s 169us/step\n"
          ],
          "name": "stdout"
        }
      ]
    },
    {
      "cell_type": "code",
      "metadata": {
        "id": "NIj2K-2PnDyc",
        "colab_type": "code",
        "colab": {
          "base_uri": "https://localhost:8080/",
          "height": 34
        },
        "outputId": "8719bd2b-b0e9-480a-abc1-d537bcccdb19"
      },
      "source": [
        "print(\"Accuracy:\",scores[1])"
      ],
      "execution_count": null,
      "outputs": [
        {
          "output_type": "stream",
          "text": [
            "Accuracy: 0.8851147890090942\n"
          ],
          "name": "stdout"
        }
      ]
    },
    {
      "cell_type": "code",
      "metadata": {
        "id": "Z_H0MU26nMAd",
        "colab_type": "code",
        "colab": {}
      },
      "source": [
        "model.save(\"vanhanh.h5\")"
      ],
      "execution_count": null,
      "outputs": []
    },
    {
      "cell_type": "code",
      "metadata": {
        "id": "3NWj0pQWoL0T",
        "colab_type": "code",
        "colab": {}
      },
      "source": [
        "result=model.predict(X_test[1:2])"
      ],
      "execution_count": null,
      "outputs": []
    },
    {
      "cell_type": "code",
      "metadata": {
        "id": "3_W4z6k-od4u",
        "colab_type": "code",
        "colab": {
          "base_uri": "https://localhost:8080/",
          "height": 202
        },
        "outputId": "34898894-5ad8-4e9b-f643-8d329ed8aead"
      },
      "source": [
        "print(result)"
      ],
      "execution_count": null,
      "outputs": [
        {
          "output_type": "stream",
          "text": [
            "[[2.14887579e-15 9.99995112e-01 1.39136732e-11 1.97335371e-18\n",
            "  1.92497357e-18 4.90120419e-06 1.40392302e-15 4.51172792e-19\n",
            "  1.07544900e-21 3.36175375e-29 6.87931884e-29 1.14549435e-23\n",
            "  3.15907392e-30 2.65857896e-26 3.17144213e-20 2.95001609e-19\n",
            "  2.07882193e-18 3.65499324e-33 1.03458434e-14 2.27543278e-28\n",
            "  1.78068076e-28 1.03905764e-29 3.17927352e-31 1.01213355e-31\n",
            "  2.84704437e-25 1.80503211e-16 1.41931362e-29 6.70551560e-22\n",
            "  1.15697355e-16 1.98382589e-22 4.37346828e-26 6.31923268e-27\n",
            "  8.39248859e-23 7.73291654e-21 3.39379801e-22 6.86785889e-22\n",
            "  8.48304350e-20 1.10145974e-23 2.22542584e-23 2.08269881e-22\n",
            "  2.13880702e-24 1.37432866e-30 3.02423573e-29]]\n"
          ],
          "name": "stdout"
        }
      ]
    },
    {
      "cell_type": "code",
      "metadata": {
        "id": "F-wFOjmApXmN",
        "colab_type": "code",
        "colab": {
          "base_uri": "https://localhost:8080/",
          "height": 34
        },
        "outputId": "ed237aeb-c8bf-4286-987c-a71a358ce8c7"
      },
      "source": [
        "print(np.argmax(result))"
      ],
      "execution_count": null,
      "outputs": [
        {
          "output_type": "stream",
          "text": [
            "1\n"
          ],
          "name": "stdout"
        }
      ]
    },
    {
      "cell_type": "code",
      "metadata": {
        "id": "zYpN-9mBpcxI",
        "colab_type": "code",
        "colab": {
          "base_uri": "https://localhost:8080/",
          "height": 34
        },
        "outputId": "c1966212-de77-424b-92e0-9b422b64fedc"
      },
      "source": [
        "classNames[1]"
      ],
      "execution_count": null,
      "outputs": [
        {
          "output_type": "execute_result",
          "data": {
            "text/plain": [
              "'Speed limit (30km/h)'"
            ]
          },
          "metadata": {
            "tags": []
          },
          "execution_count": 140
        }
      ]
    },
    {
      "cell_type": "code",
      "metadata": {
        "id": "Pfcl2FvvpiD8",
        "colab_type": "code",
        "colab": {
          "base_uri": "https://localhost:8080/",
          "height": 283
        },
        "outputId": "8f9c2666-5258-40eb-caa2-5519f52e289a"
      },
      "source": [
        "plt.imshow(test[\"features\"][1])"
      ],
      "execution_count": null,
      "outputs": [
        {
          "output_type": "execute_result",
          "data": {
            "text/plain": [
              "<matplotlib.image.AxesImage at 0x7f3c57e79f98>"
            ]
          },
          "metadata": {
            "tags": []
          },
          "execution_count": 143
        },
        {
          "output_type": "display_data",
          "data": {
            "image/png": "[encoded data removed]",
            "text/plain": [
              "<Figure size 432x288 with 1 Axes>"
            ]
          },
          "metadata": {
            "tags": [],
            "needs_background": "light"
          }
        }
      ]
    },
    {
      "cell_type": "code",
      "metadata": {
        "id": "DOELTm4Rpm_0",
        "colab_type": "code",
        "colab": {}
      },
      "source": [
        "acc=H.history[\"accuracy\"]\n",
        "acc_val=H.history[\"val_accuracy\"]\n",
        "loss=H.history[\"loss\"]\n",
        "loss_val=H.history[\"val_loss\"]"
      ],
      "execution_count": null,
      "outputs": []
    },
    {
      "cell_type": "code",
      "metadata": {
        "id": "3EpSdUviqOVT",
        "colab_type": "code",
        "colab": {
          "base_uri": "https://localhost:8080/",
          "height": 282
        },
        "outputId": "7de17086-a551-4425-c5ee-a47e94455dfc"
      },
      "source": [
        "list_idx=np.arange(len(acc))+1\n",
        "plt.plot(list_idx,acc,'r',label=\"acc\")\n",
        "plt.plot(list_idx,acc_val,'b',label=\"val_acc\")\n",
        "plt.xlabel(\"epochs\")\n",
        "plt.ylabel(\"accuracy\")\n",
        "plt.legend()\n",
        "plt.show()"
      ],
      "execution_count": null,
      "outputs": [
        {
          "output_type": "display_data",
          "data": {
            "image/png": "[encoded data removed]",
            "text/plain": [
              "<Figure size 432x288 with 1 Axes>"
            ]
          },
          "metadata": {
            "tags": [],
            "needs_background": "light"
          }
        }
      ]
    },
    {
      "cell_type": "code",
      "metadata": {
        "colab_type": "code",
        "id": "4tmwYofHt9n8",
        "colab": {
          "base_uri": "https://localhost:8080/",
          "height": 279
        },
        "outputId": "ee895ddc-9071-4296-83c4-63f3deebcaaf"
      },
      "source": [
        "list_idx=np.arange(len(acc))+1\n",
        "plt.plot(list_idx,loss,'r',label=\"loss\")\n",
        "plt.plot(list_idx,loss_val,'b',label=\"loss_acc\")\n",
        "plt.xlabel(\"epochs\")\n",
        "plt.ylabel(\"loss\")\n",
        "plt.legend()\n",
        "plt.show()"
      ],
      "execution_count": null,
      "outputs": [
        {
          "output_type": "display_data",
          "data": {
            "image/png": "[encoded data removed]",
            "text/plain": [
              "<Figure size 432x288 with 1 Axes>"
            ]
          },
          "metadata": {
            "tags": [],
            "needs_background": "light"
          }
        }
      ]
    },
    {
      "cell_type": "code",
      "metadata": {
        "id": "gsR6N0nNuFV0",
        "colab_type": "code",
        "colab": {}
      },
      "source": [
        ""
      ],
      "execution_count": null,
      "outputs": []
    }
  ]
}