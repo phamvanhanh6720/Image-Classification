{
  "nbformat": 4,
  "nbformat_minor": 0,
  "metadata": {
    "kernelspec": {
      "display_name": "Python 3",
      "language": "python",
      "name": "python3"
    },
    "language_info": {
      "codemirror_mode": {
        "name": "ipython",
        "version": 3
      },
      "file_extension": ".py",
      "mimetype": "text/x-python",
      "name": "python",
      "nbconvert_exporter": "python",
      "pygments_lexer": "ipython3",
      "version": "3.7.6"
    },
    "toc": {
      "base_numbering": 1,
      "nav_menu": {},
      "number_sections": true,
      "sideBar": true,
      "skip_h1_title": false,
      "title_cell": "Table of Contents",
      "title_sidebar": "Contents",
      "toc_cell": false,
      "toc_position": {},
      "toc_section_display": true,
      "toc_window_display": false
    },
    "varInspector": {
      "cols": {
        "lenName": 16,
        "lenType": 16,
        "lenVar": 40
      },
      "kernels_config": {
        "python": {
          "delete_cmd_postfix": "",
          "delete_cmd_prefix": "del ",
          "library": "var_list.py",
          "varRefreshCmd": "print(var_dic_list())"
        },
        "r": {
          "delete_cmd_postfix": ") ",
          "delete_cmd_prefix": "rm(",
          "library": "var_list.r",
          "varRefreshCmd": "cat(var_dic_list()) "
        }
      },
      "types_to_exclude": [
        "module",
        "function",
        "builtin_function_or_method",
        "instance",
        "_Feature"
      ],
      "window_display": false
    },
    "colab": {
      "name": "Neural Network.ipynb",
      "provenance": [],
      "toc_visible": true
    }
  },
  "cells": [
    {
      "cell_type": "markdown",
      "metadata": {
        "id": "crd4gZAUl65I",
        "colab_type": "text"
      },
      "source": [
        "# 1. Xem lại công thức tính node trong hidden layer, biểu diễn bài toán dưới dạng ma trận.\n",
        "\n",
        "$$\\begin{aligned}\n",
        "&X=A^{(0)}\\in \\mathrm{R}^{N\\times d^{(0)}},A^{(l)}\\in R^{N\\times d^{(l)}},Z^{(l)}\\in R^{N\\times d^{(l)}}\\\\\n",
        "&W^{(l)}\\in R^{d^{(l-1)}\\times d^{(l)}}, \\textbf{b}^{(l)}\\in R^{d^{(l)}\\times 1}\\\\\n",
        "&Z^{(l)}=A^{(l-1)}\\cdot W^{(l)}+\\left[\\begin{matrix}\\textbf{b}^{(l)T}\\\\\\textbf{b}^{(l)T}\\\\\\cdots\\\\\\textbf{b}^{(l)T}\\end{matrix}\\right]\\\\\n",
        "&A^{(l)}=g(Z^{(l)})\n",
        "\\end{aligned}$$"
      ]
    },
    {
      "cell_type": "markdown",
      "metadata": {
        "id": "8EULkuZVl65M",
        "colab_type": "text"
      },
      "source": [
        "# 2. Hiểu hết và chạy lại code (softmax, cross_entropy, batch update)"
      ]
    },
    {
      "cell_type": "markdown",
      "metadata": {
        "id": "PvmNi1p-l65O",
        "colab_type": "text"
      },
      "source": [
        "## 2.1 Softmax"
      ]
    },
    {
      "cell_type": "code",
      "metadata": {
        "ExecuteTime": {
          "end_time": "2020-06-11T17:52:50.496502Z",
          "start_time": "2020-06-11T17:52:50.493024Z"
        },
        "id": "4c4O-bG0l65P",
        "colab_type": "code",
        "colab": {}
      },
      "source": [
        "def softmax(Z):\n",
        "    \"\"\"\n",
        "    Shape of Z: (N,d)\n",
        "    \"\"\"\n",
        "    A=np.exp(Z)/np.sum(np.exp(Z),axis=1,keepdims=True)\n",
        "    return A"
      ],
      "execution_count": null,
      "outputs": []
    },
    {
      "cell_type": "code",
      "metadata": {
        "ExecuteTime": {
          "end_time": "2020-06-11T17:57:23.134145Z",
          "start_time": "2020-06-11T17:57:23.130169Z"
        },
        "id": "wAKl6HRnl65V",
        "colab_type": "code",
        "colab": {}
      },
      "source": [
        "import numpy as np\n",
        "z=np.random.randn(5,1).T\n",
        "a=softmax(z)"
      ],
      "execution_count": null,
      "outputs": []
    },
    {
      "cell_type": "code",
      "metadata": {
        "ExecuteTime": {
          "end_time": "2020-06-11T17:58:58.798518Z",
          "start_time": "2020-06-11T17:58:58.794024Z"
        },
        "id": "WztdQV8Jl65a",
        "colab_type": "code",
        "colab": {},
        "outputId": "d008f2e8-8e86-47f3-b699-65eb04db04a8"
      },
      "source": [
        "print(\"z:\\n\",z.T)\n",
        "print(\"a=softmax(z):\\n\",a.T)"
      ],
      "execution_count": null,
      "outputs": [
        {
          "output_type": "stream",
          "text": [
            "z:\n",
            " [[ 0.02314607]\n",
            " [ 0.65098856]\n",
            " [-0.80584002]\n",
            " [-0.89600673]\n",
            " [ 1.03114079]]\n",
            "a=softmax(z):\n",
            " [[0.15506248]\n",
            " [0.29051948]\n",
            " [0.06768347]\n",
            " [0.06184773]\n",
            " [0.42488684]]\n"
          ],
          "name": "stdout"
        }
      ]
    },
    {
      "cell_type": "markdown",
      "metadata": {
        "id": "DsXuJNi6l65g",
        "colab_type": "text"
      },
      "source": [
        "## 2.2 Cross_entropy"
      ]
    },
    {
      "cell_type": "code",
      "metadata": {
        "ExecuteTime": {
          "end_time": "2020-06-11T18:10:46.930162Z",
          "start_time": "2020-06-11T18:10:46.925670Z"
        },
        "id": "25yXCJybl65h",
        "colab_type": "code",
        "colab": {}
      },
      "source": [
        "def cross_entropy(Yhat,y):\n",
        "    indexes=range(Yhat.shape[0])\n",
        "    loss=-np.sum(np.log(Yhat[indexes,y]))\n",
        "    return loss"
      ],
      "execution_count": null,
      "outputs": []
    },
    {
      "cell_type": "code",
      "metadata": {
        "ExecuteTime": {
          "end_time": "2020-06-11T18:13:50.050287Z",
          "start_time": "2020-06-11T18:13:50.043231Z"
        },
        "scrolled": true,
        "id": "AmuriiKtl65m",
        "colab_type": "code",
        "colab": {},
        "outputId": "f4cd324e-faea-48fa-d004-80d279fd2ebd"
      },
      "source": [
        "import numpy as np\n",
        "\n",
        "N=10\n",
        "d=5 # 5 class\n",
        "#tao ra label cua tap du lieu\n",
        "y=np.random.randint(d,size=N)\n",
        "print(\"y:\",y)\n",
        "\n",
        "#tao ra Yhat (Gia tri model tinh ra)\n",
        "Yhat=softmax(np.random.randn(N,d))\n",
        "print(\"Yhat:\",Yhat.shape)\n",
        "print(Yhat)\n",
        "\n",
        "loss=cross_entropy(Yhat,y)\n",
        "print(\"loss:\",loss)\n",
        "\n"
      ],
      "execution_count": null,
      "outputs": [
        {
          "output_type": "stream",
          "text": [
            "y: [2 4 4 0 4 3 0 2 4 2]\n",
            "Yhat: (10, 5)\n",
            "[[0.22982603 0.02390439 0.48971475 0.10700932 0.14954552]\n",
            " [0.17029778 0.23322311 0.12082438 0.30289975 0.17275498]\n",
            " [0.04169577 0.21227038 0.15295022 0.19329877 0.39978486]\n",
            " [0.04738105 0.03999382 0.37704637 0.24372325 0.2918555 ]\n",
            " [0.47198252 0.07579383 0.12291028 0.2419333  0.08738007]\n",
            " [0.20176097 0.0248803  0.1962612  0.17446142 0.40263611]\n",
            " [0.01497053 0.05597615 0.20929029 0.14110563 0.5786574 ]\n",
            " [0.0385192  0.10703547 0.04857133 0.6188798  0.1869942 ]\n",
            " [0.05928451 0.22097516 0.0707334  0.08085348 0.56815346]\n",
            " [0.19193752 0.15314672 0.4476128  0.14414269 0.06316027]]\n",
            "loss: 19.215298508528463\n"
          ],
          "name": "stdout"
        }
      ]
    },
    {
      "cell_type": "markdown",
      "metadata": {
        "id": "Q6Jhrt-ol65r",
        "colab_type": "text"
      },
      "source": [
        "## 2.3 Batch Update\n",
        "Note: Sau mỗi epoch phải shuffle tập dữ liệu lại."
      ]
    },
    {
      "cell_type": "markdown",
      "metadata": {
        "id": "VonzlT_al65s",
        "colab_type": "text"
      },
      "source": [
        "# 3. Chỉnh các hyperparameter: learning rate, activation function, số hidden layer, số node. Thử dùng các model đơn giản hơn (không có hidden layer, 1 hidden layer) hay phức tạp hơn (nhiều hidden layer và node hơn), vẽ loss function theo epoch tương ứng."
      ]
    },
    {
      "cell_type": "code",
      "metadata": {
        "ExecuteTime": {
          "end_time": "2020-06-13T01:54:24.032069Z",
          "start_time": "2020-06-13T01:54:18.054184Z"
        },
        "id": "wTuWRP6Nl65s",
        "colab_type": "code",
        "colab": {}
      },
      "source": [
        "from __future__ import print_function\n",
        "import tensorflow\n",
        "from tensorflow.keras.datasets import mnist\n",
        "from tensorflow.keras.models import Sequential\n",
        "from tensorflow.keras.layers import Dense, Dropout, Flatten\n",
        "from tensorflow.keras.layers import Conv2D, MaxPooling2D\n",
        "from tensorflow.keras.optimizers import SGD\n",
        "from tensorflow.keras import backend as K"
      ],
      "execution_count": null,
      "outputs": []
    },
    {
      "cell_type": "code",
      "metadata": {
        "ExecuteTime": {
          "end_time": "2020-06-13T01:54:24.405020Z",
          "start_time": "2020-06-13T01:54:24.044549Z"
        },
        "id": "OGXFr0t5l65w",
        "colab_type": "code",
        "colab": {}
      },
      "source": [
        "# input image dimensions\n",
        "img_rows, img_cols = 28, 28\n",
        "\n",
        "# the data, split between train and test sets\n",
        "(x_train, y_train), (x_test, y_test) = mnist.load_data()"
      ],
      "execution_count": null,
      "outputs": []
    },
    {
      "cell_type": "code",
      "metadata": {
        "ExecuteTime": {
          "end_time": "2020-06-13T01:54:26.434181Z",
          "start_time": "2020-06-13T01:54:26.422699Z"
        },
        "id": "BhQ4x2hAl65z",
        "colab_type": "code",
        "colab": {},
        "outputId": "a5c38651-904f-44ea-b952-ce75bad00152"
      },
      "source": [
        "x_train[0].shape, y_test[0]"
      ],
      "execution_count": null,
      "outputs": [
        {
          "output_type": "execute_result",
          "data": {
            "text/plain": [
              "((28, 28), 7)"
            ]
          },
          "metadata": {
            "tags": []
          },
          "execution_count": 4
        }
      ]
    },
    {
      "cell_type": "code",
      "metadata": {
        "ExecuteTime": {
          "end_time": "2020-06-13T01:54:28.777899Z",
          "start_time": "2020-06-13T01:54:28.607670Z"
        },
        "id": "2eRd_pDTl652",
        "colab_type": "code",
        "colab": {},
        "outputId": "efac0b10-779f-4e5f-dae4-9a5c252ad36d"
      },
      "source": [
        "x_train = x_train.reshape(-1, 784)\n",
        "x_test = x_test.reshape(-1, 784)\n",
        "x_train = x_train.astype('float32')\n",
        "x_test = x_test.astype('float32')\n",
        "# normalize (0-1)\n",
        "x_train /= 255\n",
        "x_test /= 255\n",
        "print(x_train.shape[0], 'train samples')\n",
        "print(x_test.shape[0], 'test samples')"
      ],
      "execution_count": null,
      "outputs": [
        {
          "output_type": "stream",
          "text": [
            "60000 train samples\n",
            "10000 test samples\n"
          ],
          "name": "stdout"
        }
      ]
    },
    {
      "cell_type": "code",
      "metadata": {
        "ExecuteTime": {
          "end_time": "2020-06-13T01:54:30.285130Z",
          "start_time": "2020-06-13T01:54:30.277127Z"
        },
        "id": "THRQ_-yal655",
        "colab_type": "code",
        "colab": {},
        "outputId": "854668d9-1905-48de-904c-d0612358a81b"
      },
      "source": [
        "input_shape=(784,)\n",
        "num_classes=10\n",
        "# convert class vectors to binary class matrices\n",
        "print(y_train[0])\n",
        "y_train = tensorflow.keras.utils.to_categorical(y_train, num_classes)\n",
        "y_test = tensorflow.keras.utils.to_categorical(y_test, num_classes)\n",
        "print(y_train[0])"
      ],
      "execution_count": null,
      "outputs": [
        {
          "output_type": "stream",
          "text": [
            "5\n",
            "[0. 0. 0. 0. 0. 1. 0. 0. 0. 0.]\n"
          ],
          "name": "stdout"
        }
      ]
    },
    {
      "cell_type": "code",
      "metadata": {
        "ExecuteTime": {
          "end_time": "2020-06-13T01:54:31.074154Z",
          "start_time": "2020-06-13T01:54:31.064671Z"
        },
        "id": "SwLFD-6kl658",
        "colab_type": "code",
        "colab": {}
      },
      "source": [
        "class Model():\n",
        "    def __init__(self,input_shape,layers,learning_rate,activation):\n",
        "        self.input_shape=input_shape\n",
        "        self.layers=layers\n",
        "        self.learning_rate=learning_rate\n",
        "        self.activation=activation\n",
        "        self.model=self.create_model()\n",
        "        \n",
        "    def create_model(self):\n",
        "        model=Sequential()\n",
        "        for layer in range(1,len(self.layers)+1):\n",
        "            if layer==1:\n",
        "                model.add(Dense(self.layers[layer-1],activation=self.activation,input_shape=self.input_shape))\n",
        "                continue\n",
        "                \n",
        "            if layer==len(self.layers):\n",
        "                model.add(Dense(self.layers[layer-1],activation=\"softmax\"))\n",
        "                break\n",
        "            \n",
        "            model.add(Dense(self.layers[layer-1],activation=self.activation))\n",
        "        \n",
        "        model.compile(loss='categorical_crossentropy',optimizer=SGD(learning_rate=self.learning_rate),metrics=['accuracy'])\n",
        "        return model"
      ],
      "execution_count": null,
      "outputs": []
    },
    {
      "cell_type": "markdown",
      "metadata": {
        "id": "MzQ006T7l66A",
        "colab_type": "text"
      },
      "source": [
        "## 3.1 Chỉnh các hyperparameter: learning rate, activation function, số hidden layer, số node"
      ]
    },
    {
      "cell_type": "markdown",
      "metadata": {
        "heading_collapsed": true,
        "id": "QFo-73ral66A",
        "colab_type": "text"
      },
      "source": [
        "### 3.1.1 Chỉnh learning_rate"
      ]
    },
    {
      "cell_type": "code",
      "metadata": {
        "ExecuteTime": {
          "end_time": "2020-06-13T02:50:30.475904Z",
          "start_time": "2020-06-13T02:50:30.472411Z"
        },
        "hidden": true,
        "id": "f52pl-N5l66B",
        "colab_type": "code",
        "colab": {}
      },
      "source": [
        "batch_size = 128\n",
        "num_classes = 10\n",
        "epochs = 12"
      ],
      "execution_count": null,
      "outputs": []
    },
    {
      "cell_type": "code",
      "metadata": {
        "ExecuteTime": {
          "end_time": "2020-06-13T02:50:31.011917Z",
          "start_time": "2020-06-13T02:50:30.951009Z"
        },
        "hidden": true,
        "id": "ZVf_bfayl66E",
        "colab_type": "code",
        "colab": {}
      },
      "source": [
        "# learning_rate=0.01\n",
        "model_1=Model(input_shape,[512,32,num_classes],0.01,'relu').model"
      ],
      "execution_count": null,
      "outputs": []
    },
    {
      "cell_type": "code",
      "metadata": {
        "ExecuteTime": {
          "end_time": "2020-06-13T02:50:31.445508Z",
          "start_time": "2020-06-13T02:50:31.404074Z"
        },
        "hidden": true,
        "id": "KXXpXfUhl66G",
        "colab_type": "code",
        "colab": {}
      },
      "source": [
        "# learning_rate=0.001\n",
        "model_2=Model(input_shape,[512,32,num_classes],0.001,'relu').model"
      ],
      "execution_count": null,
      "outputs": []
    },
    {
      "cell_type": "code",
      "metadata": {
        "ExecuteTime": {
          "end_time": "2020-06-13T02:50:31.917479Z",
          "start_time": "2020-06-13T02:50:31.877519Z"
        },
        "hidden": true,
        "id": "quh-EdRdl66J",
        "colab_type": "code",
        "colab": {}
      },
      "source": [
        "# learning_rate=0.1\n",
        "model_3=Model(input_shape,[512,32,num_classes],0.1,'relu').model"
      ],
      "execution_count": null,
      "outputs": []
    },
    {
      "cell_type": "code",
      "metadata": {
        "ExecuteTime": {
          "end_time": "2020-06-13T02:50:32.385631Z",
          "start_time": "2020-06-13T02:50:32.346709Z"
        },
        "hidden": true,
        "id": "yXXa4rgFl66L",
        "colab_type": "code",
        "colab": {}
      },
      "source": [
        "# learning_rate=1\n",
        "model_4=Model(input_shape,[512,32,num_classes],1,'relu').model"
      ],
      "execution_count": null,
      "outputs": []
    },
    {
      "cell_type": "code",
      "metadata": {
        "ExecuteTime": {
          "end_time": "2020-06-13T02:50:52.511861Z",
          "start_time": "2020-06-13T02:50:33.799843Z"
        },
        "hidden": true,
        "scrolled": true,
        "id": "DHQn5Rjrl66P",
        "colab_type": "code",
        "colab": {},
        "outputId": "3e6cb6df-9c80-4f6f-a9fb-36826e0f8c75"
      },
      "source": [
        "history_1=model_1.fit(x_train,y_train,batch_size=batch_size,epochs=epochs,verbose=1,validation_data=(x_test,y_test))"
      ],
      "execution_count": null,
      "outputs": [
        {
          "output_type": "stream",
          "text": [
            "Epoch 1/12\n",
            "469/469 [==============================] - 2s 4ms/step - loss: 1.2325 - accuracy: 0.6828 - val_loss: 0.5782 - val_accuracy: 0.8621\n",
            "Epoch 2/12\n",
            "469/469 [==============================] - 1s 3ms/step - loss: 0.4819 - accuracy: 0.8749 - val_loss: 0.3897 - val_accuracy: 0.8994\n",
            "Epoch 3/12\n",
            "469/469 [==============================] - 2s 4ms/step - loss: 0.3739 - accuracy: 0.8970 - val_loss: 0.3333 - val_accuracy: 0.9087\n",
            "Epoch 4/12\n",
            "469/469 [==============================] - 1s 3ms/step - loss: 0.3289 - accuracy: 0.9081 - val_loss: 0.2990 - val_accuracy: 0.9163\n",
            "Epoch 5/12\n",
            "469/469 [==============================] - 1s 3ms/step - loss: 0.3004 - accuracy: 0.9147 - val_loss: 0.2787 - val_accuracy: 0.9228\n",
            "Epoch 6/12\n",
            "469/469 [==============================] - 1s 3ms/step - loss: 0.2793 - accuracy: 0.9204 - val_loss: 0.2612 - val_accuracy: 0.9268\n",
            "Epoch 7/12\n",
            "469/469 [==============================] - 2s 4ms/step - loss: 0.2622 - accuracy: 0.9252 - val_loss: 0.2462 - val_accuracy: 0.9318\n",
            "Epoch 8/12\n",
            "469/469 [==============================] - 1s 3ms/step - loss: 0.2477 - accuracy: 0.9300 - val_loss: 0.2360 - val_accuracy: 0.9320\n",
            "Epoch 9/12\n",
            "469/469 [==============================] - 1s 3ms/step - loss: 0.2349 - accuracy: 0.9335 - val_loss: 0.2254 - val_accuracy: 0.9376\n",
            "Epoch 10/12\n",
            "469/469 [==============================] - 1s 3ms/step - loss: 0.2233 - accuracy: 0.9368 - val_loss: 0.2137 - val_accuracy: 0.9390\n",
            "Epoch 11/12\n",
            "469/469 [==============================] - 2s 4ms/step - loss: 0.2129 - accuracy: 0.9396 - val_loss: 0.2056 - val_accuracy: 0.9407\n",
            "Epoch 12/12\n",
            "469/469 [==============================] - 1s 3ms/step - loss: 0.2035 - accuracy: 0.9430 - val_loss: 0.1963 - val_accuracy: 0.9434\n"
          ],
          "name": "stdout"
        }
      ]
    },
    {
      "cell_type": "code",
      "metadata": {
        "ExecuteTime": {
          "end_time": "2020-06-13T02:51:13.276685Z",
          "start_time": "2020-06-13T02:50:52.542296Z"
        },
        "hidden": true,
        "scrolled": true,
        "id": "z9ejfcYkl66R",
        "colab_type": "code",
        "colab": {},
        "outputId": "cd33da78-e964-4d4c-fc97-e2e1466e2525"
      },
      "source": [
        "history_2=model_2.fit(x_train,y_train,batch_size=batch_size,epochs=epochs,verbose=1,validation_data=(x_test,y_test))\n"
      ],
      "execution_count": null,
      "outputs": [
        {
          "output_type": "stream",
          "text": [
            "Epoch 1/12\n",
            "469/469 [==============================] - 2s 4ms/step - loss: 2.1840 - accuracy: 0.2435 - val_loss: 2.0134 - val_accuracy: 0.4306\n",
            "Epoch 2/12\n",
            "469/469 [==============================] - 2s 4ms/step - loss: 1.8659 - accuracy: 0.5141 - val_loss: 1.7042 - val_accuracy: 0.5815\n",
            "Epoch 3/12\n",
            "469/469 [==============================] - 2s 3ms/step - loss: 1.5620 - accuracy: 0.6449 - val_loss: 1.3974 - val_accuracy: 0.7054\n",
            "Epoch 4/12\n",
            "469/469 [==============================] - 2s 3ms/step - loss: 1.2795 - accuracy: 0.7334 - val_loss: 1.1410 - val_accuracy: 0.7642\n",
            "Epoch 5/12\n",
            "469/469 [==============================] - 1s 3ms/step - loss: 1.0631 - accuracy: 0.7721 - val_loss: 0.9573 - val_accuracy: 0.7956\n",
            "Epoch 6/12\n",
            "469/469 [==============================] - 2s 3ms/step - loss: 0.9106 - accuracy: 0.7982 - val_loss: 0.8287 - val_accuracy: 0.8163\n",
            "Epoch 7/12\n",
            "469/469 [==============================] - 2s 3ms/step - loss: 0.8018 - accuracy: 0.8189 - val_loss: 0.7359 - val_accuracy: 0.8333\n",
            "Epoch 8/12\n",
            "469/469 [==============================] - 2s 4ms/step - loss: 0.7213 - accuracy: 0.8343 - val_loss: 0.6658 - val_accuracy: 0.8461\n",
            "Epoch 9/12\n",
            "469/469 [==============================] - 2s 4ms/step - loss: 0.6599 - accuracy: 0.8456 - val_loss: 0.6116 - val_accuracy: 0.8547\n",
            "Epoch 10/12\n",
            "469/469 [==============================] - 2s 4ms/step - loss: 0.6120 - accuracy: 0.8535 - val_loss: 0.5693 - val_accuracy: 0.8627\n",
            "Epoch 11/12\n",
            "469/469 [==============================] - 2s 4ms/step - loss: 0.5737 - accuracy: 0.8605 - val_loss: 0.5350 - val_accuracy: 0.8691\n",
            "Epoch 12/12\n",
            "469/469 [==============================] - 2s 5ms/step - loss: 0.5425 - accuracy: 0.8658 - val_loss: 0.5070 - val_accuracy: 0.8744\n"
          ],
          "name": "stdout"
        }
      ]
    },
    {
      "cell_type": "code",
      "metadata": {
        "ExecuteTime": {
          "end_time": "2020-06-13T02:51:33.102496Z",
          "start_time": "2020-06-13T02:51:13.297153Z"
        },
        "hidden": true,
        "scrolled": true,
        "id": "GYnwaQMtl66U",
        "colab_type": "code",
        "colab": {},
        "outputId": "ed783aec-2b46-45f5-dd28-0756be41e2a2"
      },
      "source": [
        "history_3=model_3.fit(x_train,y_train,batch_size=batch_size,epochs=epochs,verbose=1,validation_data=(x_test,y_test))\n"
      ],
      "execution_count": null,
      "outputs": [
        {
          "output_type": "stream",
          "text": [
            "Epoch 1/12\n",
            "469/469 [==============================] - 2s 5ms/step - loss: 0.4443 - accuracy: 0.8730 - val_loss: 0.2146 - val_accuracy: 0.9381\n",
            "Epoch 2/12\n",
            "469/469 [==============================] - 1s 3ms/step - loss: 0.1899 - accuracy: 0.9448 - val_loss: 0.1522 - val_accuracy: 0.9544\n",
            "Epoch 3/12\n",
            "469/469 [==============================] - 2s 4ms/step - loss: 0.1367 - accuracy: 0.9606 - val_loss: 0.1223 - val_accuracy: 0.9630\n",
            "Epoch 4/12\n",
            "469/469 [==============================] - 1s 3ms/step - loss: 0.1053 - accuracy: 0.9697 - val_loss: 0.1022 - val_accuracy: 0.9683\n",
            "Epoch 5/12\n",
            "469/469 [==============================] - 2s 3ms/step - loss: 0.0862 - accuracy: 0.9757 - val_loss: 0.0896 - val_accuracy: 0.9720\n",
            "Epoch 6/12\n",
            "469/469 [==============================] - 2s 3ms/step - loss: 0.0710 - accuracy: 0.9798 - val_loss: 0.0850 - val_accuracy: 0.9742\n",
            "Epoch 7/12\n",
            "469/469 [==============================] - 2s 3ms/step - loss: 0.0609 - accuracy: 0.9823 - val_loss: 0.0795 - val_accuracy: 0.9742\n",
            "Epoch 8/12\n",
            "469/469 [==============================] - 1s 3ms/step - loss: 0.0517 - accuracy: 0.9853 - val_loss: 0.0780 - val_accuracy: 0.9739\n",
            "Epoch 9/12\n",
            "469/469 [==============================] - 2s 4ms/step - loss: 0.0443 - accuracy: 0.9880 - val_loss: 0.0714 - val_accuracy: 0.9763\n",
            "Epoch 10/12\n",
            "469/469 [==============================] - 1s 3ms/step - loss: 0.0382 - accuracy: 0.9898 - val_loss: 0.0674 - val_accuracy: 0.9782\n",
            "Epoch 11/12\n",
            "469/469 [==============================] - 2s 4ms/step - loss: 0.0327 - accuracy: 0.9915 - val_loss: 0.0676 - val_accuracy: 0.9777\n",
            "Epoch 12/12\n",
            "469/469 [==============================] - 1s 3ms/step - loss: 0.0287 - accuracy: 0.9928 - val_loss: 0.0644 - val_accuracy: 0.9790\n"
          ],
          "name": "stdout"
        }
      ]
    },
    {
      "cell_type": "code",
      "metadata": {
        "ExecuteTime": {
          "end_time": "2020-06-13T02:51:52.891376Z",
          "start_time": "2020-06-13T02:51:33.121963Z"
        },
        "hidden": true,
        "scrolled": true,
        "id": "pjh_ayzLl66b",
        "colab_type": "code",
        "colab": {},
        "outputId": "e652762b-83b7-4d67-a650-7b354b7327d9"
      },
      "source": [
        "history_4=model_4.fit(x_train,y_train,batch_size=batch_size,epochs=epochs,verbose=1,validation_data=(x_test,y_test))\n"
      ],
      "execution_count": null,
      "outputs": [
        {
          "output_type": "stream",
          "text": [
            "Epoch 1/12\n",
            "469/469 [==============================] - 2s 4ms/step - loss: 0.6865 - accuracy: 0.8098 - val_loss: 0.2273 - val_accuracy: 0.9280\n",
            "Epoch 2/12\n",
            "469/469 [==============================] - 2s 4ms/step - loss: 0.1357 - accuracy: 0.9577 - val_loss: 0.1173 - val_accuracy: 0.9643\n",
            "Epoch 3/12\n",
            "469/469 [==============================] - 2s 4ms/step - loss: 0.0959 - accuracy: 0.9700 - val_loss: 0.1058 - val_accuracy: 0.9670\n",
            "Epoch 4/12\n",
            "469/469 [==============================] - 2s 4ms/step - loss: 0.0749 - accuracy: 0.9773 - val_loss: 0.1040 - val_accuracy: 0.9713\n",
            "Epoch 5/12\n",
            "469/469 [==============================] - 1s 3ms/step - loss: 0.0603 - accuracy: 0.9818 - val_loss: 0.0943 - val_accuracy: 0.9758\n",
            "Epoch 6/12\n",
            "469/469 [==============================] - 1s 3ms/step - loss: 0.0487 - accuracy: 0.9842 - val_loss: 0.0903 - val_accuracy: 0.9752\n",
            "Epoch 7/12\n",
            "469/469 [==============================] - 1s 3ms/step - loss: 0.0422 - accuracy: 0.9864 - val_loss: 0.0979 - val_accuracy: 0.9731\n",
            "Epoch 8/12\n",
            "469/469 [==============================] - 2s 4ms/step - loss: 0.0486 - accuracy: 0.9855 - val_loss: 0.0933 - val_accuracy: 0.9750\n",
            "Epoch 9/12\n",
            "469/469 [==============================] - 2s 3ms/step - loss: 0.0363 - accuracy: 0.9888 - val_loss: 0.1114 - val_accuracy: 0.9713\n",
            "Epoch 10/12\n",
            "469/469 [==============================] - 1s 3ms/step - loss: 0.0266 - accuracy: 0.9913 - val_loss: 0.1105 - val_accuracy: 0.9745\n",
            "Epoch 11/12\n",
            "469/469 [==============================] - 2s 3ms/step - loss: 0.0240 - accuracy: 0.9925 - val_loss: 0.1186 - val_accuracy: 0.9734\n",
            "Epoch 12/12\n",
            "469/469 [==============================] - 1s 3ms/step - loss: 0.0204 - accuracy: 0.9932 - val_loss: 0.1031 - val_accuracy: 0.9779\n"
          ],
          "name": "stdout"
        }
      ]
    },
    {
      "cell_type": "code",
      "metadata": {
        "ExecuteTime": {
          "end_time": "2020-06-12T16:02:22.717993Z",
          "start_time": "2020-06-12T16:02:22.358776Z"
        },
        "hidden": true,
        "id": "jcf9k7eCl66e",
        "colab_type": "code",
        "colab": {}
      },
      "source": [
        "import matplotlib.pyplot as plt"
      ],
      "execution_count": null,
      "outputs": []
    },
    {
      "cell_type": "code",
      "metadata": {
        "ExecuteTime": {
          "end_time": "2020-06-13T02:55:08.299288Z",
          "start_time": "2020-06-13T02:55:07.510533Z"
        },
        "hidden": true,
        "id": "VskiFCFSl66h",
        "colab_type": "code",
        "colab": {},
        "outputId": "e57307c8-e84a-433d-c4f2-92b6d412156d"
      },
      "source": [
        "import matplotlib.pyplot as plt\n",
        "fig,axes=plt.subplots(2,3,figsize=(15,10))\n",
        "\n",
        "axes[0][0].set_title(\"lr=0.01\")\n",
        "axes[0][0].plot(history_1.history['accuracy'],'r',label='accuracy')\n",
        "axes[0][0].plot(history_1.history['val_accuracy'],'b',label='val_accuracy')\n",
        "axes[0][0].legend()\n",
        "\n",
        "axes[0][1].set_title(\"lr=0.001\")\n",
        "axes[0][1].plot(history_2.history['accuracy'],'r',label='accuracy')\n",
        "axes[0][1].plot(history_2.history['val_accuracy'],'b',label='val_accuracy')\n",
        "axes[0][1].legend()\n",
        "\n",
        "axes[1][0].set_title(\"lr=0.1\")\n",
        "axes[1][0].plot(history_3.history['accuracy'],'r',label='accuracy')\n",
        "axes[1][0].plot(history_3.history['val_accuracy'],'b',label='val_accuracy')\n",
        "axes[1][0].legend()\n",
        "\n",
        "axes[1][1].set_title(\"lr=1\")\n",
        "axes[1][1].plot(history_4.history['accuracy'],'r',label='accuracy')\n",
        "axes[1][1].plot(history_4.history['val_accuracy'],'b',label='val_accuracy')\n",
        "axes[1][1].legend()\n",
        "\n",
        "axes[0][2].set_title(\"accuracy\")\n",
        "axes[0][2].plot(history_1.history['accuracy'],'r',label='lr=0.01')\n",
        "axes[0][2].plot(history_2.history['accuracy'],'b',label='lr=0.001')\n",
        "axes[0][2].plot(history_3.history['accuracy'],'g',label='lr=0.1')\n",
        "axes[0][2].plot(history_4.history['accuracy'],'y',label='lr=1')\n",
        "axes[0][2].legend()\n",
        "\n"
      ],
      "execution_count": null,
      "outputs": [
        {
          "output_type": "execute_result",
          "data": {
            "text/plain": [
              "<matplotlib.legend.Legend at 0x21d24640bc8>"
            ]
          },
          "metadata": {
            "tags": []
          },
          "execution_count": 83
        },
        {
          "output_type": "display_data",
          "data": {
            "image/png": "[encoded data removed]",
            "text/plain": [
              "<Figure size 1080x720 with 6 Axes>"
            ]
          },
          "metadata": {
            "tags": [],
            "needs_background": "light"
          }
        }
      ]
    },
    {
      "cell_type": "markdown",
      "metadata": {
        "heading_collapsed": true,
        "id": "C1ICAFGol66j",
        "colab_type": "text"
      },
      "source": [
        "### 3.1.2 Chỉnh activation"
      ]
    },
    {
      "cell_type": "code",
      "metadata": {
        "ExecuteTime": {
          "end_time": "2020-06-13T02:43:31.944944Z",
          "start_time": "2020-06-13T02:43:31.899034Z"
        },
        "hidden": true,
        "id": "BDsLcKirl66k",
        "colab_type": "code",
        "colab": {}
      },
      "source": [
        "# activation=relu\n",
        "model_1=Model(input_shape,[512,32,num_classes],0.01,'relu').model"
      ],
      "execution_count": null,
      "outputs": []
    },
    {
      "cell_type": "code",
      "metadata": {
        "ExecuteTime": {
          "end_time": "2020-06-13T02:43:32.471676Z",
          "start_time": "2020-06-13T02:43:32.432758Z"
        },
        "hidden": true,
        "id": "ZmuaP37dl66m",
        "colab_type": "code",
        "colab": {}
      },
      "source": [
        "# activation=leaky_relu\n",
        "model_2=Model(input_shape,[512,32,num_classes],0.01,tensorflow.keras.layers.LeakyReLU()).model"
      ],
      "execution_count": null,
      "outputs": []
    },
    {
      "cell_type": "code",
      "metadata": {
        "ExecuteTime": {
          "end_time": "2020-06-13T02:43:32.913275Z",
          "start_time": "2020-06-13T02:43:32.873840Z"
        },
        "hidden": true,
        "id": "eAiXKvL6l66q",
        "colab_type": "code",
        "colab": {}
      },
      "source": [
        "# activation=sigmoid\n",
        "model_3=Model(input_shape,[512,32,num_classes],0.01,'sigmoid').model"
      ],
      "execution_count": null,
      "outputs": []
    },
    {
      "cell_type": "code",
      "metadata": {
        "ExecuteTime": {
          "end_time": "2020-06-13T02:44:03.478201Z",
          "start_time": "2020-06-13T02:43:45.720266Z"
        },
        "hidden": true,
        "scrolled": true,
        "id": "eAzgWbgxl66s",
        "colab_type": "code",
        "colab": {},
        "outputId": "a7d56a08-4aee-4e50-f985-0d0081c98ae9"
      },
      "source": [
        "history_1=model_1.fit(x_train,y_train,batch_size=batch_size,epochs=epochs,verbose=1,validation_data=(x_test,y_test))"
      ],
      "execution_count": null,
      "outputs": [
        {
          "output_type": "stream",
          "text": [
            "Epoch 1/12\n",
            "469/469 [==============================] - 1s 3ms/step - loss: 1.1493 - accuracy: 0.7120 - val_loss: 0.5589 - val_accuracy: 0.8633\n",
            "Epoch 2/12\n",
            "469/469 [==============================] - 1s 3ms/step - loss: 0.4697 - accuracy: 0.8799 - val_loss: 0.3818 - val_accuracy: 0.9000\n",
            "Epoch 3/12\n",
            "469/469 [==============================] - 1s 3ms/step - loss: 0.3677 - accuracy: 0.9004 - val_loss: 0.3246 - val_accuracy: 0.9125\n",
            "Epoch 4/12\n",
            "469/469 [==============================] - 1s 3ms/step - loss: 0.3236 - accuracy: 0.9094 - val_loss: 0.2938 - val_accuracy: 0.9209\n",
            "Epoch 5/12\n",
            "469/469 [==============================] - 1s 3ms/step - loss: 0.2958 - accuracy: 0.9165 - val_loss: 0.2715 - val_accuracy: 0.9252\n",
            "Epoch 6/12\n",
            "469/469 [==============================] - 1s 3ms/step - loss: 0.2749 - accuracy: 0.9223 - val_loss: 0.2582 - val_accuracy: 0.9296\n",
            "Epoch 7/12\n",
            "469/469 [==============================] - 1s 3ms/step - loss: 0.2584 - accuracy: 0.9266 - val_loss: 0.2416 - val_accuracy: 0.9345\n",
            "Epoch 8/12\n",
            "469/469 [==============================] - 1s 3ms/step - loss: 0.2440 - accuracy: 0.9310 - val_loss: 0.2293 - val_accuracy: 0.9364\n",
            "Epoch 9/12\n",
            "469/469 [==============================] - 1s 3ms/step - loss: 0.2314 - accuracy: 0.9347 - val_loss: 0.2190 - val_accuracy: 0.9398\n",
            "Epoch 10/12\n",
            "469/469 [==============================] - 2s 4ms/step - loss: 0.2200 - accuracy: 0.9379 - val_loss: 0.2104 - val_accuracy: 0.9424\n",
            "Epoch 11/12\n",
            "469/469 [==============================] - 2s 3ms/step - loss: 0.2097 - accuracy: 0.9411 - val_loss: 0.2010 - val_accuracy: 0.9439\n",
            "Epoch 12/12\n",
            "469/469 [==============================] - 1s 3ms/step - loss: 0.2004 - accuracy: 0.9433 - val_loss: 0.1930 - val_accuracy: 0.9455\n"
          ],
          "name": "stdout"
        }
      ]
    },
    {
      "cell_type": "code",
      "metadata": {
        "ExecuteTime": {
          "end_time": "2020-06-13T02:44:21.865815Z",
          "start_time": "2020-06-13T02:44:03.495674Z"
        },
        "hidden": true,
        "scrolled": true,
        "id": "SDeY99Ckl66w",
        "colab_type": "code",
        "colab": {},
        "outputId": "f361028b-a3eb-4dfb-c076-3d74f1794d2b"
      },
      "source": [
        "history_2=model_2.fit(x_train,y_train,batch_size=batch_size,epochs=epochs,verbose=1,validation_data=(x_test,y_test))"
      ],
      "execution_count": null,
      "outputs": [
        {
          "output_type": "stream",
          "text": [
            "Epoch 1/12\n",
            "469/469 [==============================] - 2s 3ms/step - loss: 1.1249 - accuracy: 0.7122 - val_loss: 0.5347 - val_accuracy: 0.8730\n",
            "Epoch 2/12\n",
            "469/469 [==============================] - 2s 3ms/step - loss: 0.4595 - accuracy: 0.8798 - val_loss: 0.3812 - val_accuracy: 0.8974\n",
            "Epoch 3/12\n",
            "469/469 [==============================] - 2s 3ms/step - loss: 0.3722 - accuracy: 0.8957 - val_loss: 0.3340 - val_accuracy: 0.9068\n",
            "Epoch 4/12\n",
            "469/469 [==============================] - 2s 4ms/step - loss: 0.3354 - accuracy: 0.9043 - val_loss: 0.3082 - val_accuracy: 0.9130\n",
            "Epoch 5/12\n",
            "469/469 [==============================] - 1s 3ms/step - loss: 0.3127 - accuracy: 0.9102 - val_loss: 0.2913 - val_accuracy: 0.9176\n",
            "Epoch 6/12\n",
            "469/469 [==============================] - 1s 3ms/step - loss: 0.2963 - accuracy: 0.9148 - val_loss: 0.2769 - val_accuracy: 0.9220\n",
            "Epoch 7/12\n",
            "469/469 [==============================] - 2s 3ms/step - loss: 0.2829 - accuracy: 0.9193 - val_loss: 0.2673 - val_accuracy: 0.9250\n",
            "Epoch 8/12\n",
            "469/469 [==============================] - 2s 3ms/step - loss: 0.2720 - accuracy: 0.9228 - val_loss: 0.2583 - val_accuracy: 0.9276\n",
            "Epoch 9/12\n",
            "469/469 [==============================] - 1s 3ms/step - loss: 0.2619 - accuracy: 0.9255 - val_loss: 0.2499 - val_accuracy: 0.9291\n",
            "Epoch 10/12\n",
            "469/469 [==============================] - 1s 3ms/step - loss: 0.2533 - accuracy: 0.9279 - val_loss: 0.2429 - val_accuracy: 0.9307\n",
            "Epoch 11/12\n",
            "469/469 [==============================] - 1s 3ms/step - loss: 0.2451 - accuracy: 0.9306 - val_loss: 0.2379 - val_accuracy: 0.9318\n",
            "Epoch 12/12\n",
            "469/469 [==============================] - 1s 3ms/step - loss: 0.2378 - accuracy: 0.9330 - val_loss: 0.2309 - val_accuracy: 0.9349\n"
          ],
          "name": "stdout"
        }
      ]
    },
    {
      "cell_type": "code",
      "metadata": {
        "ExecuteTime": {
          "end_time": "2020-06-13T02:44:40.705394Z",
          "start_time": "2020-06-13T02:44:21.883285Z"
        },
        "hidden": true,
        "scrolled": true,
        "id": "bslBgFMxl66y",
        "colab_type": "code",
        "colab": {},
        "outputId": "9d7ada87-1de7-4c9b-b82a-540fde99a48f"
      },
      "source": [
        "history_3=model_3.fit(x_train,y_train,batch_size=batch_size,epochs=epochs,verbose=1,validation_data=(x_test,y_test))"
      ],
      "execution_count": null,
      "outputs": [
        {
          "output_type": "stream",
          "text": [
            "Epoch 1/12\n",
            "469/469 [==============================] - 2s 4ms/step - loss: 2.2783 - accuracy: 0.1674 - val_loss: 2.2374 - val_accuracy: 0.3293\n",
            "Epoch 2/12\n",
            "469/469 [==============================] - 1s 3ms/step - loss: 2.1984 - accuracy: 0.3984 - val_loss: 2.1494 - val_accuracy: 0.4902\n",
            "Epoch 3/12\n",
            "469/469 [==============================] - 1s 3ms/step - loss: 2.0975 - accuracy: 0.5056 - val_loss: 2.0289 - val_accuracy: 0.5118\n",
            "Epoch 4/12\n",
            "469/469 [==============================] - 1s 3ms/step - loss: 1.9602 - accuracy: 0.5461 - val_loss: 1.8691 - val_accuracy: 0.5743\n",
            "Epoch 5/12\n",
            "469/469 [==============================] - 1s 3ms/step - loss: 1.7880 - accuracy: 0.5867 - val_loss: 1.6825 - val_accuracy: 0.6161\n",
            "Epoch 6/12\n",
            "469/469 [==============================] - 2s 3ms/step - loss: 1.6013 - accuracy: 0.6326 - val_loss: 1.4953 - val_accuracy: 0.6546\n",
            "Epoch 7/12\n",
            "469/469 [==============================] - 1s 3ms/step - loss: 1.4250 - accuracy: 0.6736 - val_loss: 1.3300 - val_accuracy: 0.6914\n",
            "Epoch 8/12\n",
            "469/469 [==============================] - 2s 3ms/step - loss: 1.2739 - accuracy: 0.7066 - val_loss: 1.1923 - val_accuracy: 0.7325\n",
            "Epoch 9/12\n",
            "469/469 [==============================] - 2s 3ms/step - loss: 1.1503 - accuracy: 0.7359 - val_loss: 1.0808 - val_accuracy: 0.7516\n",
            "Epoch 10/12\n",
            "469/469 [==============================] - 1s 3ms/step - loss: 1.0494 - accuracy: 0.7567 - val_loss: 0.9898 - val_accuracy: 0.7780\n",
            "Epoch 11/12\n",
            "469/469 [==============================] - 2s 4ms/step - loss: 0.9657 - accuracy: 0.7751 - val_loss: 0.9128 - val_accuracy: 0.7941\n",
            "Epoch 12/12\n",
            "469/469 [==============================] - 2s 4ms/step - loss: 0.8952 - accuracy: 0.7897 - val_loss: 0.8479 - val_accuracy: 0.8075\n"
          ],
          "name": "stdout"
        }
      ]
    },
    {
      "cell_type": "code",
      "metadata": {
        "ExecuteTime": {
          "end_time": "2020-06-13T02:44:41.233530Z",
          "start_time": "2020-06-13T02:44:40.725343Z"
        },
        "hidden": true,
        "id": "zYWstuyOl661",
        "colab_type": "code",
        "colab": {},
        "outputId": "de6d7c87-6c15-4135-9adb-bbf875f7de64"
      },
      "source": [
        "import matplotlib.pyplot as plt\n",
        "fig,axes=plt.subplots(2,2,figsize=(10,10))\n",
        "\n",
        "axes[0][0].set_title(\"activation=relu\")\n",
        "axes[0][0].plot(history_1.history['accuracy'],'r',label='accuracy')\n",
        "axes[0][0].plot(history_1.history['val_accuracy'],'b',label='val_accuracy')\n",
        "axes[0][0].legend()\n",
        "\n",
        "axes[0][1].set_title(\"activation=leaky_relu\")\n",
        "axes[0][1].plot(history_2.history['accuracy'],'r',label='accuracy')\n",
        "axes[0][1].plot(history_2.history['val_accuracy'],'b',label='val_accuracy')\n",
        "axes[0][1].legend()\n",
        "\n",
        "axes[1][0].set_title(\"activation=sigmoid\")\n",
        "axes[1][0].plot(history_3.history['accuracy'],'r',label='accuracy')\n",
        "axes[1][0].plot(history_3.history['val_accuracy'],'b',label='val_accuracy')\n",
        "axes[1][0].legend()\n",
        "\n",
        "axes[1][1].set_title(\"accuracy\")\n",
        "axes[1][1].plot(history_1.history['accuracy'],'r',label='activation=relu')\n",
        "axes[1][1].plot(history_2.history['accuracy'],'b',label='activation=leaky_relu')\n",
        "axes[1][1].plot(history_3.history['accuracy'],'g',label='activation=sigmoid')\n",
        "\n",
        "\n",
        "axes[1][1].legend()"
      ],
      "execution_count": null,
      "outputs": [
        {
          "output_type": "execute_result",
          "data": {
            "text/plain": [
              "<matplotlib.legend.Legend at 0x21d21ab9e48>"
            ]
          },
          "metadata": {
            "tags": []
          },
          "execution_count": 69
        },
        {
          "output_type": "display_data",
          "data": {
            "image/png": "[encoded data removed]",
            "text/plain": [
              "<Figure size 720x720 with 4 Axes>"
            ]
          },
          "metadata": {
            "tags": [],
            "needs_background": "light"
          }
        }
      ]
    },
    {
      "cell_type": "markdown",
      "metadata": {
        "id": "fACzBRYRl664",
        "colab_type": "text"
      },
      "source": [
        "### 3.1.3 Chỉnh số hidden layer"
      ]
    },
    {
      "cell_type": "code",
      "metadata": {
        "ExecuteTime": {
          "end_time": "2020-06-13T02:57:04.208306Z",
          "start_time": "2020-06-13T02:57:04.204811Z"
        },
        "id": "5o83w18Hl664",
        "colab_type": "code",
        "colab": {}
      },
      "source": [
        "batch_size = 128\n",
        "num_classes = 10\n",
        "epochs = 12\n",
        "learning_rate=0.01\n",
        "input_shape=(784,)"
      ],
      "execution_count": null,
      "outputs": []
    },
    {
      "cell_type": "code",
      "metadata": {
        "ExecuteTime": {
          "end_time": "2020-06-13T02:57:08.127298Z",
          "start_time": "2020-06-13T02:57:08.081372Z"
        },
        "id": "hDJPv36sl667",
        "colab_type": "code",
        "colab": {}
      },
      "source": [
        "# 3 hidden layer\n",
        "model_1=Model(input_shape,[512,32,10],learning_rate,'relu').model"
      ],
      "execution_count": null,
      "outputs": []
    },
    {
      "cell_type": "code",
      "metadata": {
        "ExecuteTime": {
          "end_time": "2020-06-13T02:57:09.198345Z",
          "start_time": "2020-06-13T02:57:09.140444Z"
        },
        "id": "URLQG2nQl669",
        "colab_type": "code",
        "colab": {}
      },
      "source": [
        "# 5 hidden layer\n",
        "model_2=Model(input_shape,[512,256,128,32,10],learning_rate,'relu').model"
      ],
      "execution_count": null,
      "outputs": []
    },
    {
      "cell_type": "code",
      "metadata": {
        "ExecuteTime": {
          "end_time": "2020-06-13T02:57:09.613122Z",
          "start_time": "2020-06-13T02:57:09.534744Z"
        },
        "id": "RxphN9ugl67A",
        "colab_type": "code",
        "colab": {}
      },
      "source": [
        "# 8 hidden layer\n",
        "model_3=Model(input_shape,[512,256,256,256,128,64,32,10],learning_rate,'relu').model"
      ],
      "execution_count": null,
      "outputs": []
    },
    {
      "cell_type": "code",
      "metadata": {
        "ExecuteTime": {
          "end_time": "2020-06-13T03:02:18.556865Z",
          "start_time": "2020-06-13T03:01:59.316372Z"
        },
        "scrolled": true,
        "id": "iXrKzZ1Xl67C",
        "colab_type": "code",
        "colab": {},
        "outputId": "c89db30c-25a4-4cc9-ffc8-9e38216192ea"
      },
      "source": [
        "history_1=model_1.fit(x_train,y_train,batch_size=batch_size,epochs=epochs,verbose=1,validation_data=(x_test,y_test))"
      ],
      "execution_count": null,
      "outputs": [
        {
          "output_type": "stream",
          "text": [
            "Epoch 1/12\n",
            "469/469 [==============================] - 1s 3ms/step - loss: 0.1961 - accuracy: 0.9443 - val_loss: 0.1900 - val_accuracy: 0.9450\n",
            "Epoch 2/12\n",
            "469/469 [==============================] - 1s 3ms/step - loss: 0.1878 - accuracy: 0.9467 - val_loss: 0.1833 - val_accuracy: 0.9482\n",
            "Epoch 3/12\n",
            "469/469 [==============================] - 2s 4ms/step - loss: 0.1803 - accuracy: 0.9490 - val_loss: 0.1789 - val_accuracy: 0.9493\n",
            "Epoch 4/12\n",
            "469/469 [==============================] - 2s 4ms/step - loss: 0.1730 - accuracy: 0.9510 - val_loss: 0.1713 - val_accuracy: 0.9504\n",
            "Epoch 5/12\n",
            "469/469 [==============================] - 2s 4ms/step - loss: 0.1665 - accuracy: 0.9532 - val_loss: 0.1643 - val_accuracy: 0.9536\n",
            "Epoch 6/12\n",
            "469/469 [==============================] - 2s 4ms/step - loss: 0.1601 - accuracy: 0.9551 - val_loss: 0.1594 - val_accuracy: 0.9542\n",
            "Epoch 7/12\n",
            "469/469 [==============================] - 1s 3ms/step - loss: 0.1545 - accuracy: 0.9565 - val_loss: 0.1570 - val_accuracy: 0.9561\n",
            "Epoch 8/12\n",
            "469/469 [==============================] - 2s 4ms/step - loss: 0.1493 - accuracy: 0.9579 - val_loss: 0.1499 - val_accuracy: 0.9570\n",
            "Epoch 9/12\n",
            "469/469 [==============================] - 1s 3ms/step - loss: 0.1440 - accuracy: 0.9595 - val_loss: 0.1462 - val_accuracy: 0.9575\n",
            "Epoch 10/12\n",
            "469/469 [==============================] - 2s 3ms/step - loss: 0.1393 - accuracy: 0.9609 - val_loss: 0.1440 - val_accuracy: 0.9593\n",
            "Epoch 11/12\n",
            "469/469 [==============================] - 2s 3ms/step - loss: 0.1347 - accuracy: 0.9624 - val_loss: 0.1383 - val_accuracy: 0.9606\n",
            "Epoch 12/12\n",
            "469/469 [==============================] - 2s 4ms/step - loss: 0.1305 - accuracy: 0.9636 - val_loss: 0.1342 - val_accuracy: 0.9615\n"
          ],
          "name": "stdout"
        }
      ]
    },
    {
      "cell_type": "code",
      "metadata": {
        "ExecuteTime": {
          "end_time": "2020-06-13T03:02:41.345848Z",
          "start_time": "2020-06-13T03:02:18.576849Z"
        },
        "scrolled": true,
        "id": "uLZt4z8Ql67F",
        "colab_type": "code",
        "colab": {},
        "outputId": "a4f53a3c-f9c2-4815-9fd2-49aa7fe667b2"
      },
      "source": [
        "history_2=model_2.fit(x_train,y_train,batch_size=batch_size,epochs=epochs,verbose=1,validation_data=(x_test,y_test))"
      ],
      "execution_count": null,
      "outputs": [
        {
          "output_type": "stream",
          "text": [
            "Epoch 1/12\n",
            "469/469 [==============================] - 2s 4ms/step - loss: 0.1245 - accuracy: 0.9645 - val_loss: 0.1285 - val_accuracy: 0.9595\n",
            "Epoch 2/12\n",
            "469/469 [==============================] - 2s 5ms/step - loss: 0.1171 - accuracy: 0.9666 - val_loss: 0.1242 - val_accuracy: 0.9617\n",
            "Epoch 3/12\n",
            "469/469 [==============================] - 2s 5ms/step - loss: 0.1107 - accuracy: 0.9683 - val_loss: 0.1239 - val_accuracy: 0.9615\n",
            "Epoch 4/12\n",
            "469/469 [==============================] - 2s 4ms/step - loss: 0.1045 - accuracy: 0.9699 - val_loss: 0.1152 - val_accuracy: 0.9645\n",
            "Epoch 5/12\n",
            "469/469 [==============================] - 2s 4ms/step - loss: 0.0982 - accuracy: 0.9721 - val_loss: 0.1175 - val_accuracy: 0.9629\n",
            "Epoch 6/12\n",
            "469/469 [==============================] - 2s 4ms/step - loss: 0.0934 - accuracy: 0.9736 - val_loss: 0.1077 - val_accuracy: 0.9681\n",
            "Epoch 7/12\n",
            "469/469 [==============================] - 2s 4ms/step - loss: 0.0885 - accuracy: 0.9744 - val_loss: 0.1036 - val_accuracy: 0.9686\n",
            "Epoch 8/12\n",
            "469/469 [==============================] - 2s 4ms/step - loss: 0.0832 - accuracy: 0.9762 - val_loss: 0.1011 - val_accuracy: 0.9686\n",
            "Epoch 9/12\n",
            "469/469 [==============================] - 2s 4ms/step - loss: 0.0793 - accuracy: 0.9776 - val_loss: 0.0978 - val_accuracy: 0.9695\n",
            "Epoch 10/12\n",
            "469/469 [==============================] - 2s 4ms/step - loss: 0.0753 - accuracy: 0.9790 - val_loss: 0.0972 - val_accuracy: 0.9699\n",
            "Epoch 11/12\n",
            "469/469 [==============================] - 2s 4ms/step - loss: 0.0714 - accuracy: 0.9799 - val_loss: 0.0999 - val_accuracy: 0.9691\n",
            "Epoch 12/12\n",
            "469/469 [==============================] - 2s 3ms/step - loss: 0.0683 - accuracy: 0.9812 - val_loss: 0.0931 - val_accuracy: 0.9711\n"
          ],
          "name": "stdout"
        }
      ]
    },
    {
      "cell_type": "code",
      "metadata": {
        "ExecuteTime": {
          "end_time": "2020-06-13T03:03:06.899421Z",
          "start_time": "2020-06-13T03:02:41.365304Z"
        },
        "scrolled": true,
        "id": "5WUwVWVal67I",
        "colab_type": "code",
        "colab": {},
        "outputId": "e55d92eb-24dd-4176-d663-d5f4c287f984"
      },
      "source": [
        "history_3=model_3.fit(x_train,y_train,batch_size=batch_size,epochs=epochs,verbose=1,validation_data=(x_test,y_test))"
      ],
      "execution_count": null,
      "outputs": [
        {
          "output_type": "stream",
          "text": [
            "Epoch 1/12\n",
            "469/469 [==============================] - 2s 4ms/step - loss: 0.0905 - accuracy: 0.9734 - val_loss: 0.1105 - val_accuracy: 0.9662\n",
            "Epoch 2/12\n",
            "469/469 [==============================] - 2s 4ms/step - loss: 0.0821 - accuracy: 0.9757 - val_loss: 0.1142 - val_accuracy: 0.9640\n",
            "Epoch 3/12\n",
            "469/469 [==============================] - 2s 4ms/step - loss: 0.0748 - accuracy: 0.9779 - val_loss: 0.1034 - val_accuracy: 0.9691\n",
            "Epoch 4/12\n",
            "469/469 [==============================] - 2s 5ms/step - loss: 0.0698 - accuracy: 0.9797 - val_loss: 0.0948 - val_accuracy: 0.9711\n",
            "Epoch 5/12\n",
            "469/469 [==============================] - 2s 4ms/step - loss: 0.0632 - accuracy: 0.9815 - val_loss: 0.1007 - val_accuracy: 0.9683\n",
            "Epoch 6/12\n",
            "469/469 [==============================] - 3s 7ms/step - loss: 0.0587 - accuracy: 0.9829 - val_loss: 0.0963 - val_accuracy: 0.9713\n",
            "Epoch 7/12\n",
            "469/469 [==============================] - 2s 5ms/step - loss: 0.0539 - accuracy: 0.9846 - val_loss: 0.1000 - val_accuracy: 0.9702\n",
            "Epoch 8/12\n",
            "469/469 [==============================] - 2s 4ms/step - loss: 0.0502 - accuracy: 0.9857 - val_loss: 0.0907 - val_accuracy: 0.9730\n",
            "Epoch 9/12\n",
            "469/469 [==============================] - 2s 4ms/step - loss: 0.0457 - accuracy: 0.9870 - val_loss: 0.0924 - val_accuracy: 0.9728\n",
            "Epoch 10/12\n",
            "469/469 [==============================] - 2s 4ms/step - loss: 0.0419 - accuracy: 0.9880 - val_loss: 0.0889 - val_accuracy: 0.9739\n",
            "Epoch 11/12\n",
            "469/469 [==============================] - 2s 4ms/step - loss: 0.0371 - accuracy: 0.9898 - val_loss: 0.0902 - val_accuracy: 0.9730\n",
            "Epoch 12/12\n",
            "469/469 [==============================] - 2s 4ms/step - loss: 0.0347 - accuracy: 0.9905 - val_loss: 0.1315 - val_accuracy: 0.9605\n"
          ],
          "name": "stdout"
        }
      ]
    },
    {
      "cell_type": "code",
      "metadata": {
        "ExecuteTime": {
          "end_time": "2020-06-13T03:07:55.372838Z",
          "start_time": "2020-06-13T03:07:54.864669Z"
        },
        "id": "XTrE4MzJl67L",
        "colab_type": "code",
        "colab": {},
        "outputId": "70dedaa7-01e6-4391-9d0f-b0145864862b"
      },
      "source": [
        "import matplotlib.pyplot as plt\n",
        "fig,axes=plt.subplots(2,2,figsize=(10,10))\n",
        "\n",
        "axes[0][0].set_title(\"3 layer\")\n",
        "axes[0][0].plot(history_1.history['accuracy'],'r',label='accuracy')\n",
        "axes[0][0].plot(history_1.history['val_accuracy'],'b',label='val_accuracy')\n",
        "axes[0][0].legend()\n",
        "axes[0][0].set_ylim([0.8,1])\n",
        "\n",
        "axes[0][1].set_title(\"5 layer\")\n",
        "axes[0][1].plot(history_2.history['accuracy'],'r',label='accuracy')\n",
        "axes[0][1].plot(history_2.history['val_accuracy'],'b',label='val_accuracy')\n",
        "axes[0][1].legend()\n",
        "axes[0][1].set_ylim([0.8,1])\n",
        "\n",
        "\n",
        "axes[1][0].set_title(\"7 layer\")\n",
        "axes[1][0].plot(history_3.history['accuracy'],'r',label='accuracy')\n",
        "axes[1][0].plot(history_3.history['val_accuracy'],'b',label='val_accuracy')\n",
        "axes[1][0].legend()\n",
        "axes[1][0].set_ylim([0.8,1])\n",
        "\n",
        "\n",
        "axes[1][1].set_title(\"accuracy\")\n",
        "axes[1][1].plot(history_1.history['accuracy'],'r',label='3 layer')\n",
        "axes[1][1].plot(history_2.history['accuracy'],'b',label='5 layer')\n",
        "axes[1][1].plot(history_3.history['accuracy'],'g',label='7 layer')\n",
        "axes[1][1].set_ylim([0.8,1])\n",
        "\n",
        "\n",
        "axes[1][1].legend()"
      ],
      "execution_count": null,
      "outputs": [
        {
          "output_type": "execute_result",
          "data": {
            "text/plain": [
              "<matplotlib.legend.Legend at 0x21d27d59fc8>"
            ]
          },
          "metadata": {
            "tags": []
          },
          "execution_count": 101
        },
        {
          "output_type": "display_data",
          "data": {
            "image/png": "[encoded data removed]",
            "text/plain": [
              "<Figure size 720x720 with 4 Axes>"
            ]
          },
          "metadata": {
            "tags": [],
            "needs_background": "light"
          }
        }
      ]
    },
    {
      "cell_type": "markdown",
      "metadata": {
        "heading_collapsed": true,
        "id": "TOzHp0ytl67O",
        "colab_type": "text"
      },
      "source": [
        "## 3.2 Thử dùng các model đơn giản hơn (không có hidden layer, 1 hidden layer) hay phức tạp hơn (nhiều hidden layer và node hơn), vẽ loss function theo epoch tương ứng."
      ]
    },
    {
      "cell_type": "code",
      "metadata": {
        "hidden": true,
        "id": "zJPWFPsfl67O",
        "colab_type": "code",
        "colab": {}
      },
      "source": [
        "batch_size = 128\n",
        "num_classes = 10\n",
        "epochs = 12\n",
        "learning_rate=0.01\n",
        "input_shape=(784,)"
      ],
      "execution_count": null,
      "outputs": []
    },
    {
      "cell_type": "code",
      "metadata": {
        "ExecuteTime": {
          "end_time": "2020-06-13T03:12:39.181259Z",
          "start_time": "2020-06-13T03:12:39.146817Z"
        },
        "hidden": true,
        "id": "sn0nLfCEl67R",
        "colab_type": "code",
        "colab": {}
      },
      "source": [
        "# Model don gian, Khong co hidden layer\n",
        "model_1=Sequential()\n",
        "model_1.add(Dense(num_classes,activation='softmax',input_shape=input_shape))\n",
        "model_1.compile(loss='categorical_crossentropy',optimizer=SGD(learning_rate=learning_rate),metrics=['accuracy'])"
      ],
      "execution_count": null,
      "outputs": []
    },
    {
      "cell_type": "code",
      "metadata": {
        "ExecuteTime": {
          "end_time": "2020-06-13T03:13:27.880704Z",
          "start_time": "2020-06-13T03:13:27.817284Z"
        },
        "hidden": true,
        "id": "2186v-xfl67U",
        "colab_type": "code",
        "colab": {}
      },
      "source": [
        "# Model phuc tap hon, 5 layer\n",
        "model_2=Model(input_shape,[512,256,128,32,10],learning_rate,'relu').model"
      ],
      "execution_count": null,
      "outputs": []
    },
    {
      "cell_type": "code",
      "metadata": {
        "ExecuteTime": {
          "end_time": "2020-06-13T03:14:07.630443Z",
          "start_time": "2020-06-13T03:14:07.568044Z"
        },
        "hidden": true,
        "id": "Cdoy_vA8l67W",
        "colab_type": "code",
        "colab": {}
      },
      "source": [
        "# Model 5 layer, tang so node\n",
        "model_2=Model(input_shape,[512,512,256,32,10],learning_rate,'relu').model"
      ],
      "execution_count": null,
      "outputs": []
    },
    {
      "cell_type": "code",
      "metadata": {
        "ExecuteTime": {
          "end_time": "2020-06-13T03:14:37.037142Z",
          "start_time": "2020-06-13T03:14:22.257363Z"
        },
        "hidden": true,
        "scrolled": true,
        "id": "T0HwXiDyl67Z",
        "colab_type": "code",
        "colab": {},
        "outputId": "5df74abe-f115-4897-99f7-47b46c60837a"
      },
      "source": [
        "history_1=model_1.fit(x_train,y_train,batch_size=batch_size,epochs=epochs,verbose=1,validation_data=(x_test,y_test))"
      ],
      "execution_count": null,
      "outputs": [
        {
          "output_type": "stream",
          "text": [
            "Epoch 1/12\n",
            "469/469 [==============================] - 1s 3ms/step - loss: 1.2580 - accuracy: 0.7148 - val_loss: 0.7972 - val_accuracy: 0.8340\n",
            "Epoch 2/12\n",
            "469/469 [==============================] - 1s 3ms/step - loss: 0.7097 - accuracy: 0.8419 - val_loss: 0.6012 - val_accuracy: 0.8644\n",
            "Epoch 3/12\n",
            "469/469 [==============================] - 1s 3ms/step - loss: 0.5845 - accuracy: 0.8599 - val_loss: 0.5217 - val_accuracy: 0.8758\n",
            "Epoch 4/12\n",
            "469/469 [==============================] - 1s 2ms/step - loss: 0.5239 - accuracy: 0.8695 - val_loss: 0.4768 - val_accuracy: 0.8815\n",
            "Epoch 5/12\n",
            "469/469 [==============================] - 1s 2ms/step - loss: 0.4867 - accuracy: 0.8758 - val_loss: 0.4473 - val_accuracy: 0.8867\n",
            "Epoch 6/12\n",
            "469/469 [==============================] - 1s 3ms/step - loss: 0.4611 - accuracy: 0.8803 - val_loss: 0.4261 - val_accuracy: 0.8899\n",
            "Epoch 7/12\n",
            "469/469 [==============================] - 1s 3ms/step - loss: 0.4420 - accuracy: 0.8838 - val_loss: 0.4102 - val_accuracy: 0.8929\n",
            "Epoch 8/12\n",
            "469/469 [==============================] - 1s 2ms/step - loss: 0.4272 - accuracy: 0.8862 - val_loss: 0.3977 - val_accuracy: 0.8971\n",
            "Epoch 9/12\n",
            "469/469 [==============================] - 1s 2ms/step - loss: 0.4152 - accuracy: 0.8886 - val_loss: 0.3872 - val_accuracy: 0.8988\n",
            "Epoch 10/12\n",
            "469/469 [==============================] - 1s 3ms/step - loss: 0.4051 - accuracy: 0.8908 - val_loss: 0.3784 - val_accuracy: 0.9008\n",
            "Epoch 11/12\n",
            "469/469 [==============================] - 1s 3ms/step - loss: 0.3967 - accuracy: 0.8928 - val_loss: 0.3710 - val_accuracy: 0.9020\n",
            "Epoch 12/12\n",
            "469/469 [==============================] - 1s 2ms/step - loss: 0.3894 - accuracy: 0.8945 - val_loss: 0.3650 - val_accuracy: 0.9030\n"
          ],
          "name": "stdout"
        }
      ]
    },
    {
      "cell_type": "code",
      "metadata": {
        "ExecuteTime": {
          "end_time": "2020-06-13T03:15:00.555044Z",
          "start_time": "2020-06-13T03:14:37.056598Z"
        },
        "hidden": true,
        "id": "95I0wEVal67d",
        "colab_type": "code",
        "colab": {},
        "outputId": "0c8a3e5b-08cd-4727-9e72-b8e4b98ccb27"
      },
      "source": [
        "history_2=model_2.fit(x_train,y_train,batch_size=batch_size,epochs=epochs,verbose=1,validation_data=(x_test,y_test))"
      ],
      "execution_count": null,
      "outputs": [
        {
          "output_type": "stream",
          "text": [
            "Epoch 1/12\n",
            "469/469 [==============================] - 2s 4ms/step - loss: 1.2293 - accuracy: 0.6927 - val_loss: 0.4872 - val_accuracy: 0.8743\n",
            "Epoch 2/12\n",
            "469/469 [==============================] - 2s 4ms/step - loss: 0.3969 - accuracy: 0.8921 - val_loss: 0.3176 - val_accuracy: 0.9109\n",
            "Epoch 3/12\n",
            "469/469 [==============================] - 2s 4ms/step - loss: 0.3041 - accuracy: 0.9125 - val_loss: 0.2870 - val_accuracy: 0.9162\n",
            "Epoch 4/12\n",
            "469/469 [==============================] - 2s 4ms/step - loss: 0.2625 - accuracy: 0.9247 - val_loss: 0.2407 - val_accuracy: 0.9332\n",
            "Epoch 5/12\n",
            "469/469 [==============================] - 2s 4ms/step - loss: 0.2338 - accuracy: 0.9327 - val_loss: 0.2154 - val_accuracy: 0.9384\n",
            "Epoch 6/12\n",
            "469/469 [==============================] - 2s 4ms/step - loss: 0.2112 - accuracy: 0.9390 - val_loss: 0.2001 - val_accuracy: 0.9418\n",
            "Epoch 7/12\n",
            "469/469 [==============================] - 2s 4ms/step - loss: 0.1923 - accuracy: 0.9443 - val_loss: 0.1876 - val_accuracy: 0.9451\n",
            "Epoch 8/12\n",
            "469/469 [==============================] - 2s 4ms/step - loss: 0.1764 - accuracy: 0.9493 - val_loss: 0.1702 - val_accuracy: 0.9504\n",
            "Epoch 9/12\n",
            "469/469 [==============================] - 2s 4ms/step - loss: 0.1629 - accuracy: 0.9531 - val_loss: 0.1586 - val_accuracy: 0.9546\n",
            "Epoch 10/12\n",
            "469/469 [==============================] - 2s 4ms/step - loss: 0.1513 - accuracy: 0.9566 - val_loss: 0.1515 - val_accuracy: 0.9558\n",
            "Epoch 11/12\n",
            "469/469 [==============================] - 2s 4ms/step - loss: 0.1406 - accuracy: 0.9595 - val_loss: 0.1507 - val_accuracy: 0.9561\n",
            "Epoch 12/12\n",
            "469/469 [==============================] - 2s 4ms/step - loss: 0.1321 - accuracy: 0.9624 - val_loss: 0.1329 - val_accuracy: 0.9616\n"
          ],
          "name": "stdout"
        }
      ]
    },
    {
      "cell_type": "code",
      "metadata": {
        "ExecuteTime": {
          "end_time": "2020-06-13T03:15:28.026578Z",
          "start_time": "2020-06-13T03:15:00.571997Z"
        },
        "hidden": true,
        "scrolled": true,
        "id": "n20VkvHAl67f",
        "colab_type": "code",
        "colab": {},
        "outputId": "6c636702-4a0e-41e7-b59d-ff67c81db82e"
      },
      "source": [
        "history_3=model_3.fit(x_train,y_train,batch_size=batch_size,epochs=epochs,verbose=1,validation_data=(x_test,y_test))"
      ],
      "execution_count": null,
      "outputs": [
        {
          "output_type": "stream",
          "text": [
            "Epoch 1/12\n",
            "469/469 [==============================] - 2s 5ms/step - loss: 0.0312 - accuracy: 0.9914 - val_loss: 0.1089 - val_accuracy: 0.9683\n",
            "Epoch 2/12\n",
            "469/469 [==============================] - 2s 5ms/step - loss: 0.0292 - accuracy: 0.9923 - val_loss: 0.0932 - val_accuracy: 0.9732\n",
            "Epoch 3/12\n",
            "469/469 [==============================] - 2s 5ms/step - loss: 0.0255 - accuracy: 0.9939 - val_loss: 0.0840 - val_accuracy: 0.9763\n",
            "Epoch 4/12\n",
            "469/469 [==============================] - 2s 5ms/step - loss: 0.0241 - accuracy: 0.9939 - val_loss: 0.1493 - val_accuracy: 0.9583\n",
            "Epoch 5/12\n",
            "469/469 [==============================] - 2s 5ms/step - loss: 0.0873 - accuracy: 0.9843 - val_loss: 0.0941 - val_accuracy: 0.9723\n",
            "Epoch 6/12\n",
            "469/469 [==============================] - 2s 5ms/step - loss: 0.0286 - accuracy: 0.9930 - val_loss: 0.0856 - val_accuracy: 0.9760\n",
            "Epoch 7/12\n",
            "469/469 [==============================] - 2s 4ms/step - loss: 0.0199 - accuracy: 0.9959 - val_loss: 0.0862 - val_accuracy: 0.9765\n",
            "Epoch 8/12\n",
            "469/469 [==============================] - 2s 4ms/step - loss: 0.0174 - accuracy: 0.9962 - val_loss: 0.0865 - val_accuracy: 0.9756\n",
            "Epoch 9/12\n",
            "469/469 [==============================] - 2s 5ms/step - loss: 0.0148 - accuracy: 0.9974 - val_loss: 0.0888 - val_accuracy: 0.9766\n",
            "Epoch 10/12\n",
            "469/469 [==============================] - 2s 5ms/step - loss: 0.0132 - accuracy: 0.9975 - val_loss: 0.0880 - val_accuracy: 0.9763\n",
            "Epoch 11/12\n",
            "469/469 [==============================] - 2s 5ms/step - loss: 0.0118 - accuracy: 0.9980 - val_loss: 0.0888 - val_accuracy: 0.9778\n",
            "Epoch 12/12\n",
            "469/469 [==============================] - 3s 7ms/step - loss: 0.0109 - accuracy: 0.9983 - val_loss: 0.0901 - val_accuracy: 0.9761\n"
          ],
          "name": "stdout"
        }
      ]
    },
    {
      "cell_type": "code",
      "metadata": {
        "ExecuteTime": {
          "end_time": "2020-06-13T03:16:42.063513Z",
          "start_time": "2020-06-13T03:16:41.543858Z"
        },
        "hidden": true,
        "id": "w8A5DRFIl67j",
        "colab_type": "code",
        "colab": {},
        "outputId": "b3c629b9-bbd2-4f44-c7ee-9af10e90b773"
      },
      "source": [
        "import matplotlib.pyplot as plt\n",
        "fig,axes=plt.subplots(2,2,figsize=(10,10))\n",
        "\n",
        "axes[0][0].set_title(\"Khong co hidden layer\")\n",
        "axes[0][0].plot(history_1.history['accuracy'],'r',label='accuracy')\n",
        "axes[0][0].plot(history_1.history['val_accuracy'],'b',label='val_accuracy')\n",
        "axes[0][0].legend()\n",
        "axes[0][0].set_ylim([0.8,1])\n",
        "\n",
        "axes[0][1].set_title(\"5 layer\")\n",
        "axes[0][1].plot(history_2.history['accuracy'],'r',label='accuracy')\n",
        "axes[0][1].plot(history_2.history['val_accuracy'],'b',label='val_accuracy')\n",
        "axes[0][1].legend()\n",
        "axes[0][1].set_ylim([0.8,1])\n",
        "\n",
        "\n",
        "axes[1][0].set_title(\"5 layer, so node tang\")\n",
        "axes[1][0].plot(history_3.history['accuracy'],'r',label='accuracy')\n",
        "axes[1][0].plot(history_3.history['val_accuracy'],'b',label='val_accuracy')\n",
        "axes[1][0].legend()\n",
        "axes[1][0].set_ylim([0.8,1])\n",
        "\n",
        "\n",
        "axes[1][1].set_title(\"accuracy\")\n",
        "axes[1][1].plot(history_1.history['accuracy'],'r',label='ko hidden layer')\n",
        "axes[1][1].plot(history_2.history['accuracy'],'b',label='5 layer')\n",
        "axes[1][1].plot(history_3.history['accuracy'],'g',label='5 layer, tang so node')\n",
        "axes[1][1].set_ylim([0.8,1])\n",
        "\n",
        "\n",
        "axes[1][1].legend()"
      ],
      "execution_count": null,
      "outputs": [
        {
          "output_type": "execute_result",
          "data": {
            "text/plain": [
              "<matplotlib.legend.Legend at 0x21d28b99608>"
            ]
          },
          "metadata": {
            "tags": []
          },
          "execution_count": 110
        },
        {
          "output_type": "display_data",
          "data": {
            "image/png": "[encoded data removed]",
            "text/plain": [
              "<Figure size 720x720 with 4 Axes>"
            ]
          },
          "metadata": {
            "tags": [],
            "needs_background": "light"
          }
        }
      ]
    },
    {
      "cell_type": "markdown",
      "metadata": {
        "id": "Fme5TufIl67l",
        "colab_type": "text"
      },
      "source": [
        "# 4. Phân loại ảnh trong dữ liệu cifar 10"
      ]
    },
    {
      "cell_type": "code",
      "metadata": {
        "ExecuteTime": {
          "end_time": "2020-06-13T03:24:20.661305Z",
          "start_time": "2020-06-13T03:24:20.656314Z"
        },
        "id": "rteoLxlkl67m",
        "colab_type": "code",
        "colab": {}
      },
      "source": [
        "from __future__ import print_function\n",
        "import tensorflow\n",
        "from tensorflow.keras.datasets import cifar10\n",
        "from tensorflow.keras.models import Sequential\n",
        "from tensorflow.keras.layers import Dense, Dropout, Flatten\n",
        "from tensorflow.keras.layers import Conv2D, MaxPooling2D\n",
        "from tensorflow.keras.optimizers import SGD\n",
        "from tensorflow.keras import backend as K"
      ],
      "execution_count": null,
      "outputs": []
    },
    {
      "cell_type": "code",
      "metadata": {
        "ExecuteTime": {
          "end_time": "2020-06-13T03:28:22.793126Z",
          "start_time": "2020-06-13T03:28:21.122768Z"
        },
        "id": "Hc5K-p3ml67o",
        "colab_type": "code",
        "colab": {}
      },
      "source": [
        "# input image dimensions\n",
        "img_rows, img_cols = 32, 32\n",
        "\n",
        "# the data, split between train and test sets\n",
        "(x_train, y_train), (x_test, y_test) = cifar10.load_data()"
      ],
      "execution_count": null,
      "outputs": []
    },
    {
      "cell_type": "code",
      "metadata": {
        "ExecuteTime": {
          "end_time": "2020-06-13T03:29:08.816969Z",
          "start_time": "2020-06-13T03:29:07.345312Z"
        },
        "id": "RAFviYEYl67q",
        "colab_type": "code",
        "colab": {}
      },
      "source": [
        "# reshape & normalize data\n",
        "x_train=x_train.reshape((x_train.shape[0],-1))/255.\n",
        "x_test=x_test.reshape((x_test.shape[0],-1))/255.\n",
        "y_train=y_train.reshape((y_train.shape[0],))\n",
        "y_test=y_test.reshape((y_test.shape[0],))"
      ],
      "execution_count": null,
      "outputs": []
    },
    {
      "cell_type": "code",
      "metadata": {
        "ExecuteTime": {
          "end_time": "2020-06-13T03:36:32.833779Z",
          "start_time": "2020-06-13T03:36:32.827288Z"
        },
        "id": "fHg-25eql67r",
        "colab_type": "code",
        "colab": {}
      },
      "source": [
        "#conver to one hot\n",
        "y_train = tensorflow.keras.utils.to_categorical(y_train, num_classes)\n",
        "y_test = tensorflow.keras.utils.to_categorical(y_test, num_classes)"
      ],
      "execution_count": null,
      "outputs": []
    },
    {
      "cell_type": "code",
      "metadata": {
        "ExecuteTime": {
          "end_time": "2020-06-13T03:36:36.239442Z",
          "start_time": "2020-06-13T03:36:36.235470Z"
        },
        "id": "uK2I_ZqEl67t",
        "colab_type": "code",
        "colab": {},
        "outputId": "6a38c451-6a02-4e4d-99be-c8c658213613"
      },
      "source": [
        "print(x_train.shape[0], 'train samples')\n",
        "print(x_test.shape[0], 'test samples')"
      ],
      "execution_count": null,
      "outputs": [
        {
          "output_type": "stream",
          "text": [
            "50000 train samples\n",
            "10000 test samples\n"
          ],
          "name": "stdout"
        }
      ]
    },
    {
      "cell_type": "code",
      "metadata": {
        "ExecuteTime": {
          "end_time": "2020-06-13T04:08:38.234180Z",
          "start_time": "2020-06-13T04:08:38.230189Z"
        },
        "id": "mpZHb37Zl67x",
        "colab_type": "code",
        "colab": {}
      },
      "source": [
        "input_shape=(3072,)\n",
        "num_classes=10\n",
        "batch_size = 128\n",
        "epochs = 15\n",
        "learning_rate=0.01"
      ],
      "execution_count": null,
      "outputs": []
    },
    {
      "cell_type": "code",
      "metadata": {
        "ExecuteTime": {
          "end_time": "2020-06-13T04:08:38.974409Z",
          "start_time": "2020-06-13T04:08:38.907020Z"
        },
        "id": "CeBf6TZ-l670",
        "colab_type": "code",
        "colab": {}
      },
      "source": [
        "model=Model(input_shape,[1536,768,384,128,num_classes],learning_rate,'relu').model"
      ],
      "execution_count": null,
      "outputs": []
    },
    {
      "cell_type": "code",
      "metadata": {
        "ExecuteTime": {
          "end_time": "2020-06-13T04:08:39.389478Z",
          "start_time": "2020-06-13T04:08:39.380512Z"
        },
        "id": "YtVhEhZRl673",
        "colab_type": "code",
        "colab": {},
        "outputId": "ca2bee21-504d-465b-a992-6d0536751c5c"
      },
      "source": [
        "model.summary()"
      ],
      "execution_count": null,
      "outputs": [
        {
          "output_type": "stream",
          "text": [
            "Model: \"sequential_40\"\n",
            "_________________________________________________________________\n",
            "Layer (type)                 Output Shape              Param #   \n",
            "=================================================================\n",
            "dense_160 (Dense)            (None, 1536)              4720128   \n",
            "_________________________________________________________________\n",
            "dense_161 (Dense)            (None, 768)               1180416   \n",
            "_________________________________________________________________\n",
            "dense_162 (Dense)            (None, 384)               295296    \n",
            "_________________________________________________________________\n",
            "dense_163 (Dense)            (None, 128)               49280     \n",
            "_________________________________________________________________\n",
            "dense_164 (Dense)            (None, 10)                1290      \n",
            "=================================================================\n",
            "Total params: 6,246,410\n",
            "Trainable params: 6,246,410\n",
            "Non-trainable params: 0\n",
            "_________________________________________________________________\n"
          ],
          "name": "stdout"
        }
      ]
    },
    {
      "cell_type": "code",
      "metadata": {
        "ExecuteTime": {
          "end_time": "2020-06-13T04:09:25.515467Z",
          "start_time": "2020-06-13T04:08:40.699494Z"
        },
        "scrolled": true,
        "id": "WlwpG-bnl676",
        "colab_type": "code",
        "colab": {},
        "outputId": "31dc7082-d33d-499d-c256-21cc3d387173"
      },
      "source": [
        "history=model.fit(x_train,y_train,batch_size=batch_size,epochs=epochs,verbose=1,validation_data=(x_test,y_test))"
      ],
      "execution_count": null,
      "outputs": [
        {
          "output_type": "stream",
          "text": [
            "Epoch 1/15\n",
            "391/391 [==============================] - 3s 8ms/step - loss: 1.9759 - accuracy: 0.2909 - val_loss: 1.8325 - val_accuracy: 0.3452\n",
            "Epoch 2/15\n",
            "391/391 [==============================] - 3s 8ms/step - loss: 1.7800 - accuracy: 0.3689 - val_loss: 1.7259 - val_accuracy: 0.3853\n",
            "Epoch 3/15\n",
            "391/391 [==============================] - 3s 7ms/step - loss: 1.6962 - accuracy: 0.4021 - val_loss: 1.8556 - val_accuracy: 0.3488\n",
            "Epoch 4/15\n",
            "391/391 [==============================] - 3s 7ms/step - loss: 1.6454 - accuracy: 0.4178 - val_loss: 1.6699 - val_accuracy: 0.4037\n",
            "Epoch 5/15\n",
            "391/391 [==============================] - 3s 7ms/step - loss: 1.5959 - accuracy: 0.4382 - val_loss: 1.6591 - val_accuracy: 0.4050\n",
            "Epoch 6/15\n",
            "391/391 [==============================] - 3s 7ms/step - loss: 1.5582 - accuracy: 0.4500 - val_loss: 1.5891 - val_accuracy: 0.4411\n",
            "Epoch 7/15\n",
            "391/391 [==============================] - 3s 7ms/step - loss: 1.5272 - accuracy: 0.4595 - val_loss: 1.5150 - val_accuracy: 0.4593\n",
            "Epoch 8/15\n",
            "391/391 [==============================] - 3s 7ms/step - loss: 1.5006 - accuracy: 0.4709 - val_loss: 1.5087 - val_accuracy: 0.4572\n",
            "Epoch 9/15\n",
            "391/391 [==============================] - 3s 8ms/step - loss: 1.4724 - accuracy: 0.4800 - val_loss: 1.4933 - val_accuracy: 0.4656\n",
            "Epoch 10/15\n",
            "391/391 [==============================] - 3s 7ms/step - loss: 1.4472 - accuracy: 0.4890 - val_loss: 1.5520 - val_accuracy: 0.4498\n",
            "Epoch 11/15\n",
            "391/391 [==============================] - 3s 7ms/step - loss: 1.4227 - accuracy: 0.4963 - val_loss: 1.4682 - val_accuracy: 0.4760\n",
            "Epoch 12/15\n",
            "391/391 [==============================] - 3s 7ms/step - loss: 1.3946 - accuracy: 0.5080 - val_loss: 1.4429 - val_accuracy: 0.4805\n",
            "Epoch 13/15\n",
            "391/391 [==============================] - 3s 7ms/step - loss: 1.3807 - accuracy: 0.5106 - val_loss: 1.4413 - val_accuracy: 0.4872\n",
            "Epoch 14/15\n",
            "391/391 [==============================] - 3s 7ms/step - loss: 1.3564 - accuracy: 0.5193 - val_loss: 1.4426 - val_accuracy: 0.4880\n",
            "Epoch 15/15\n",
            "391/391 [==============================] - 3s 8ms/step - loss: 1.3369 - accuracy: 0.5256 - val_loss: 1.5034 - val_accuracy: 0.4671\n"
          ],
          "name": "stdout"
        }
      ]
    },
    {
      "cell_type": "code",
      "metadata": {
        "ExecuteTime": {
          "end_time": "2020-06-13T04:09:25.847438Z",
          "start_time": "2020-06-13T04:09:25.538940Z"
        },
        "id": "-PLUrf-Rl678",
        "colab_type": "code",
        "colab": {},
        "outputId": "f458205c-e624-4f5a-f6e4-74d89d177828"
      },
      "source": [
        "plt.plot(history.history['accuracy'],label='accuracy')\n",
        "plt.plot(history.history['val_accuracy'],label='val_accuracy')\n",
        "plt.xlabel(\"epoch\")\n",
        "plt.ylabel(\"acc\")\n",
        "plt.legend()\n",
        "plt.show()"
      ],
      "execution_count": null,
      "outputs": [
        {
          "output_type": "display_data",
          "data": {
            "image/png": "[encoded data removed]",
            "text/plain": [
              "<Figure size 432x288 with 1 Axes>"
            ]
          },
          "metadata": {
            "tags": [],
            "needs_background": "light"
          }
        }
      ]
    },
    {
      "cell_type": "code",
      "metadata": {
        "ExecuteTime": {
          "end_time": "2020-06-13T04:09:53.352198Z",
          "start_time": "2020-06-13T04:09:37.715351Z"
        },
        "id": "96SLnx9gl68A",
        "colab_type": "code",
        "colab": {},
        "outputId": "c68986a1-400e-48fa-e000-6a34106ee13d"
      },
      "source": [
        "# train them 5 epoch\n",
        "history_2=model.fit(x_train,y_train,batch_size=batch_size,epochs=5,verbose=1,validation_data=(x_test,y_test))"
      ],
      "execution_count": null,
      "outputs": [
        {
          "output_type": "stream",
          "text": [
            "Epoch 1/5\n",
            "391/391 [==============================] - 3s 8ms/step - loss: 1.3178 - accuracy: 0.5330 - val_loss: 1.4515 - val_accuracy: 0.4863\n",
            "Epoch 2/5\n",
            "391/391 [==============================] - 3s 8ms/step - loss: 1.3010 - accuracy: 0.5401 - val_loss: 1.3710 - val_accuracy: 0.5134\n",
            "Epoch 3/5\n",
            "391/391 [==============================] - 3s 8ms/step - loss: 1.2800 - accuracy: 0.5489 - val_loss: 1.3787 - val_accuracy: 0.5044\n",
            "Epoch 4/5\n",
            "391/391 [==============================] - 3s 7ms/step - loss: 1.2643 - accuracy: 0.5545 - val_loss: 1.3701 - val_accuracy: 0.5095\n",
            "Epoch 5/5\n",
            "391/391 [==============================] - 3s 7ms/step - loss: 1.2452 - accuracy: 0.5619 - val_loss: 1.3788 - val_accuracy: 0.5145\n"
          ],
          "name": "stdout"
        }
      ]
    },
    {
      "cell_type": "code",
      "metadata": {
        "ExecuteTime": {
          "end_time": "2020-06-13T04:11:47.983149Z",
          "start_time": "2020-06-13T04:11:47.837878Z"
        },
        "id": "MGTGmxEFl68C",
        "colab_type": "code",
        "colab": {},
        "outputId": "84659c6b-9d26-435d-ca17-7ff69582ec2b"
      },
      "source": [
        "plt.plot(history.history['accuracy']+history_2.history['accuracy'],label='accuracy')\n",
        "plt.plot(history.history['val_accuracy']+history_2.history['val_accuracy'],label='val_accuracy')\n",
        "plt.legend()\n",
        "plt.show()"
      ],
      "execution_count": null,
      "outputs": [
        {
          "output_type": "display_data",
          "data": {
            "image/png": "[encoded data removed]",
            "text/plain": [
              "<Figure size 432x288 with 1 Axes>"
            ]
          },
          "metadata": {
            "tags": [],
            "needs_background": "light"
          }
        }
      ]
    },
    {
      "cell_type": "markdown",
      "metadata": {
        "id": "efWlpyPUl68F",
        "colab_type": "text"
      },
      "source": [
        "# 5. Code feedforward bằng numpy và kiểm tra tính chính xác của hàm bằng model tương ứng keras, có thể khởi tạo weight, bias trong layer bằng 1 trong keras, rồi so sánh với code mình implement xem output giống nhau không?"
      ]
    },
    {
      "cell_type": "code",
      "metadata": {
        "ExecuteTime": {
          "end_time": "2020-06-13T04:18:50.864755Z",
          "start_time": "2020-06-13T04:18:50.860280Z"
        },
        "id": "QRR4AhOAl68F",
        "colab_type": "code",
        "colab": {}
      },
      "source": [
        "import numpy as np\n"
      ],
      "execution_count": null,
      "outputs": []
    },
    {
      "cell_type": "code",
      "metadata": {
        "ExecuteTime": {
          "end_time": "2020-06-13T04:19:38.935524Z",
          "start_time": "2020-06-13T04:19:38.922546Z"
        },
        "id": "1QUaE81Ll68H",
        "colab_type": "code",
        "colab": {}
      },
      "source": [
        "def softmax_stable(Z):\n",
        "    e_Z=np.exp(Z-np.max(Z,axis=1,keepdims=True))\n",
        "    A=e_Z/e_Z.sum(axis=1,keepdims=True)\n",
        "    return A"
      ],
      "execution_count": null,
      "outputs": []
    },
    {
      "cell_type": "code",
      "metadata": {
        "ExecuteTime": {
          "end_time": "2020-06-13T04:27:05.972262Z",
          "start_time": "2020-06-13T04:27:05.967270Z"
        },
        "id": "ABbiCpjpl68J",
        "colab_type": "code",
        "colab": {}
      },
      "source": [
        "def init_weights(layers):\n",
        "    weights={}\n",
        "    for layer in range(1,len(layers)):\n",
        "        weights['W'+str(layer)]=np.random.randn(layers[layer-1],layers[layer])\n",
        "        weights['b'+str(layer)]=np.zeros(layers[layer])\n",
        "    return weights    "
      ],
      "execution_count": null,
      "outputs": []
    },
    {
      "cell_type": "code",
      "metadata": {
        "ExecuteTime": {
          "end_time": "2020-06-13T04:27:06.543410Z",
          "start_time": "2020-06-13T04:27:06.524938Z"
        },
        "id": "7_rF5DNAl68L",
        "colab_type": "code",
        "colab": {}
      },
      "source": [
        "#input_shape=784\n",
        "# 3 layer \n",
        "weights=init_weights([784,512,256,10])"
      ],
      "execution_count": null,
      "outputs": []
    },
    {
      "cell_type": "code",
      "metadata": {
        "ExecuteTime": {
          "end_time": "2020-06-13T04:28:26.740338Z",
          "start_time": "2020-06-13T04:28:26.733848Z"
        },
        "id": "uGKkIZwQl68O",
        "colab_type": "code",
        "colab": {},
        "outputId": "216dcaa0-0341-44dd-ce2b-02238055808e"
      },
      "source": [
        "print(\"Shape of W1:\",weights['W1'].shape)\n",
        "print(\"Shape of W2:\",weights['W2'].shape)\n",
        "print(\"Shape of W3:\",weights['W3'].shape)\n",
        "\n",
        "print(\"Shape of b1:\",weights['b1'].shape)\n",
        "print(\"Shape of b2:\",weights['b2'].shape)\n",
        "print(\"Shape of b3:\",weights['b3'].shape)"
      ],
      "execution_count": null,
      "outputs": [
        {
          "output_type": "stream",
          "text": [
            "Shape of W1: (784, 512)\n",
            "Shape of W2: (512, 256)\n",
            "Shape of W3: (256, 10)\n",
            "Shape of b1: (512,)\n",
            "Shape of b2: (256,)\n",
            "Shape of b3: (10,)\n"
          ],
          "name": "stdout"
        }
      ]
    },
    {
      "cell_type": "code",
      "metadata": {
        "ExecuteTime": {
          "end_time": "2020-06-13T04:39:11.003440Z",
          "start_time": "2020-06-13T04:39:10.998450Z"
        },
        "id": "SouAjHWfl68Q",
        "colab_type": "code",
        "colab": {}
      },
      "source": [
        "def feed_forward(X,W1,b1,W2,b2,W3,b3):\n",
        "    Z1=X.dot(W1)+b1\n",
        "    A1=np.maximum(Z1,0)\n",
        "    \n",
        "    Z2=A1.dot(W2)+b2\n",
        "    A2=np.maximum(Z2,0)\n",
        "    \n",
        "    Z3=A2.dot(W3)+b3\n",
        "    Yhat=softmax_stable(Z3)\n",
        "    \n",
        "    return Yhat\n",
        "    "
      ],
      "execution_count": null,
      "outputs": []
    },
    {
      "cell_type": "code",
      "metadata": {
        "ExecuteTime": {
          "end_time": "2020-06-13T04:36:48.682949Z",
          "start_time": "2020-06-13T04:36:48.672469Z"
        },
        "id": "d7Pnp5n8l68S",
        "colab_type": "code",
        "colab": {}
      },
      "source": [
        "X=np.random.randn(100,784)\n",
        "y=np.random.randint(0,10,100)"
      ],
      "execution_count": null,
      "outputs": []
    },
    {
      "cell_type": "code",
      "metadata": {
        "ExecuteTime": {
          "end_time": "2020-06-13T04:38:36.135323Z",
          "start_time": "2020-06-13T04:38:36.130331Z"
        },
        "id": "qYtzu7i-l68Z",
        "colab_type": "code",
        "colab": {}
      },
      "source": [
        "W1=weights['W1']\n",
        "b1=weights['b1']\n",
        "W2=weights['W2']\n",
        "b2=weights['b2']\n",
        "W3=weights['W3']\n",
        "b3=weights['b3']"
      ],
      "execution_count": null,
      "outputs": []
    },
    {
      "cell_type": "code",
      "metadata": {
        "ExecuteTime": {
          "end_time": "2020-06-13T04:39:26.319954Z",
          "start_time": "2020-06-13T04:39:26.278022Z"
        },
        "id": "mcYdaO0Ml68g",
        "colab_type": "code",
        "colab": {}
      },
      "source": [
        "# dung numpy \n",
        "Yhat=feed_forward(X,W1,b1,W2,b2,W3,b3)"
      ],
      "execution_count": null,
      "outputs": []
    },
    {
      "cell_type": "code",
      "metadata": {
        "ExecuteTime": {
          "end_time": "2020-06-13T06:17:02.659416Z",
          "start_time": "2020-06-13T06:17:02.607999Z"
        },
        "id": "iaPkQp1bl68k",
        "colab_type": "code",
        "colab": {}
      },
      "source": [
        "# dung keras\n",
        "model=Sequential()\n",
        "model.add(Dense(512,activation='relu',weights=[W1,b1],input_shape=(784,)))\n",
        "model.add(Dense(256,activation='relu',weights=[W2,b2]))\n",
        "model.add(Dense(10,activation='softmax',weights=[W3,b3]))"
      ],
      "execution_count": null,
      "outputs": []
    },
    {
      "cell_type": "code",
      "metadata": {
        "ExecuteTime": {
          "end_time": "2020-06-13T06:23:43.403053Z",
          "start_time": "2020-06-13T06:23:43.360121Z"
        },
        "id": "iJBfmDTRl68o",
        "colab_type": "code",
        "colab": {}
      },
      "source": [
        "Yhat_keras=model.predict(X)"
      ],
      "execution_count": null,
      "outputs": []
    },
    {
      "cell_type": "code",
      "metadata": {
        "ExecuteTime": {
          "end_time": "2020-06-13T06:23:54.833182Z",
          "start_time": "2020-06-13T06:23:54.828706Z"
        },
        "id": "jalBgjG3l68y",
        "colab_type": "code",
        "colab": {},
        "outputId": "112136d2-5cb8-4389-ee71-e502680e4ed9"
      },
      "source": [
        "Yhat_keras.shape"
      ],
      "execution_count": null,
      "outputs": [
        {
          "output_type": "execute_result",
          "data": {
            "text/plain": [
              "(100, 10)"
            ]
          },
          "metadata": {
            "tags": []
          },
          "execution_count": 259
        }
      ]
    },
    {
      "cell_type": "code",
      "metadata": {
        "ExecuteTime": {
          "end_time": "2020-06-13T06:28:38.120779Z",
          "start_time": "2020-06-13T06:28:38.116301Z"
        },
        "id": "9XzzIifYl682",
        "colab_type": "code",
        "colab": {},
        "outputId": "b88b9b98-3fb7-4283-a89b-99b8f2734fad"
      },
      "source": [
        "# so sanh su tuong dong\n",
        "print(\"Norm hieu cua 2 output viet bang numpy va keras:\",np.linalg.norm(Yhat-Yhat_keras))"
      ],
      "execution_count": null,
      "outputs": [
        {
          "output_type": "stream",
          "text": [
            "Norm hieu cua 2 output viet bang numpy va keras: 5.235333352502082e-10\n"
          ],
          "name": "stdout"
        }
      ]
    },
    {
      "cell_type": "markdown",
      "metadata": {
        "id": "GonbSCHOl687",
        "colab_type": "text"
      },
      "source": [
        "# 6. (Optional) Hiểu và implement backpropagation cho bài 5"
      ]
    },
    {
      "cell_type": "code",
      "metadata": {
        "ExecuteTime": {
          "end_time": "2020-06-13T07:28:45.701213Z",
          "start_time": "2020-06-13T07:28:45.675272Z"
        },
        "id": "-OkZMNODl688",
        "colab_type": "code",
        "colab": {}
      },
      "source": [
        "def softmax_stable(Z):\n",
        "    e_Z=np.exp(Z-np.max(Z,axis=1,keepdims=True))\n",
        "    A=e_Z/e_Z.sum(axis=1,keepdims=True)\n",
        "    return A\n",
        "\n",
        "def crossentropy_loss(Yhat,y):\n",
        "    \"\"\"\n",
        "    Yhat: a numpy array of shape (Npoints, nClasses) -- predicted output\n",
        "    y: a numpy array of shape (Npoints) -- ground truth.\n",
        "    NOTE: We don’t need to use the one-hot vector here since most of elements\n",
        "    are zeros. When programming in numpy, in each row of Yhat, we need to access\n",
        "    to the corresponding index only.\n",
        "    \"\"\"\n",
        "    id0=range(Yhat.shape[0])\n",
        "    return -np.mean(np.log(Yhat[id0,y]))\n",
        "\n",
        "def nn_init(d0,d1,d2):\n",
        "\n",
        "    W1=0.01*np.random.rand(d0,d1)\n",
        "    b1=np.zeros(d1)\n",
        "    W2=0.01*np.random.rand(d1,d2)\n",
        "    b2=np.zeros(d2)\n",
        "    \n",
        "    return (W1,b1,W2,b2)\n",
        "\n",
        "def nn_predict(X,W1,b1,W2,b2):\n",
        "    Z1=X.dot(W1)+b1 #shape (N,d1)\n",
        "    A1=np.maximum(Z1,0) #shape(N,d1)\n",
        "    Z2=A1.dot(W2)+b2 #shape(N,d2)\n",
        "    A2=softmax_stable(Z2)\n",
        "    \n",
        "    return np.argmax(A2,axis=1)\n",
        "\n",
        "def create_mini_batches(X, y, batch_size): \n",
        "    mini_batches = [] \n",
        "    data = np.hstack((X, y.reshape(-1,1))) \n",
        "    np.random.shuffle(data) \n",
        "    n_minibatches = data.shape[0] // batch_size \n",
        "    i = 0\n",
        "  \n",
        "    for i in range(n_minibatches + 1): \n",
        "        mini_batch = data[i * batch_size:(i + 1)*batch_size, :] \n",
        "        X_mini = mini_batch[:, :-1] \n",
        "        Y_mini = mini_batch[:, -1].reshape((-1, 1)) \n",
        "        mini_batches.append((X_mini, Y_mini)) \n",
        "    if data.shape[0] % batch_size != 0: \n",
        "        mini_batch = data[i * batch_size:data.shape[0]] \n",
        "        X_mini = mini_batch[:, :-1] \n",
        "        Y_mini = mini_batch[:, -1].reshape((-1, 1)) \n",
        "        mini_batches.append((X_mini, Y_mini)) \n",
        "    return mini_batches \n",
        "  \n",
        "def neural_network(X,y,W1,b1,W2,b2,eta,epoch,batch_size=128):\n",
        "    loss_hist=[]\n",
        "    \n",
        "    for i in range(epoch): #numer of epoches\n",
        "        mini_batches = create_mini_batches(X, y, batch_size)\n",
        "        add=True\n",
        "        for mini_batch in mini_batches:\n",
        "            X_mini,y_mini=mini_batch\n",
        "            y_mini=y_mini.reshape(y_mini.shape[0],).astype(int)\n",
        "            \n",
        "            #forward\n",
        "            Z1=X_mini.dot(W1)+b1\n",
        "            A1=np.maximum(Z1,0)\n",
        "            Z2=A1.dot(W2)+b2\n",
        "            Yhat=softmax_stable(Z2)\n",
        "            if add==True:          \n",
        "                loss=crossentropy_loss(Yhat,y_mini)\n",
        "                print(\"epoch {}/{} loss:{}\".format(i+1,epoch,loss))\n",
        "                loss_hist.append(loss)\n",
        "            \n",
        "            #back propagation\n",
        "            id0=range(Yhat.shape[0])\n",
        "            Yhat[id0,y_mini]-=1\n",
        "            \n",
        "            E2=Yhat/Yhat.shape[0]\n",
        "            dW2 = np.dot(A1.T, E2) \n",
        "            db2 = np.sum(E2, axis = 0) \n",
        "            E1 = np.dot(E2, W2.T)\n",
        "            E1[Z1 <= 0] = 0\n",
        "            dW1 = np.dot(X_mini.T, E1) \n",
        "            db1 = np.sum(E1, axis = 0) \n",
        "            \n",
        "            #update weight\n",
        "            W1+=-eta*dW1\n",
        "            b1+=-eta*db1\n",
        "            W2+=-eta*dW2\n",
        "            b2+=-eta*db2\n",
        "            add=False\n",
        "\n",
        "        \n",
        "    return (W1,b1,W2,b2,loss_hist)\n"
      ],
      "execution_count": null,
      "outputs": []
    },
    {
      "cell_type": "code",
      "metadata": {
        "ExecuteTime": {
          "end_time": "2020-06-13T07:03:44.364922Z",
          "start_time": "2020-06-13T07:03:43.781841Z"
        },
        "id": "ncROZvApl68-",
        "colab_type": "code",
        "colab": {}
      },
      "source": [
        "(x_train, y_train), (x_test, y_test) = mnist.load_data()\n",
        "x_train=x_train.reshape((x_train.shape[0],-1))/255.\n",
        "x_test=x_test.reshape((x_test.shape[0],-1))/255."
      ],
      "execution_count": null,
      "outputs": []
    },
    {
      "cell_type": "code",
      "metadata": {
        "ExecuteTime": {
          "end_time": "2020-06-13T07:07:22.221444Z",
          "start_time": "2020-06-13T07:07:22.217447Z"
        },
        "id": "WPu1g_SLl68_",
        "colab_type": "code",
        "colab": {},
        "outputId": "95dee50c-6298-42af-92b6-eda083249c57"
      },
      "source": [
        "y_train.shape"
      ],
      "execution_count": null,
      "outputs": [
        {
          "output_type": "execute_result",
          "data": {
            "text/plain": [
              "(60000,)"
            ]
          },
          "metadata": {
            "tags": []
          },
          "execution_count": 290
        }
      ]
    },
    {
      "cell_type": "code",
      "metadata": {
        "ExecuteTime": {
          "end_time": "2020-06-13T07:32:20.761176Z",
          "start_time": "2020-06-13T07:31:57.641739Z"
        },
        "scrolled": false,
        "id": "Dt-lcavEl69B",
        "colab_type": "code",
        "colab": {},
        "outputId": "4d96760e-a90d-4bb9-a5c5-d39bf5210814"
      },
      "source": [
        "\n",
        "d0 = 784 # data dimension\n",
        "d1 = h = 128 # number of hidden units\n",
        "d2 = C = 10 # number of classes\n",
        "eta = 0.01 # learning rate\n",
        "(W1,b1,W2,b2)=nn_init(d0,d1,d2)\n",
        "\n",
        "(W1, b1, W2, b2, loss_hist) =neural_network(x_train, y_train, W1, b1, W2, b2, eta,20)\n"
      ],
      "execution_count": null,
      "outputs": [
        {
          "output_type": "stream",
          "text": [
            "epoch 1/20 loss:2.304882200515201\n",
            "epoch 2/20 loss:2.125010408787051\n",
            "epoch 3/20 loss:1.3407964578576976\n",
            "epoch 4/20 loss:0.7230241159887667\n",
            "epoch 5/20 loss:0.6487440710429488\n",
            "epoch 6/20 loss:0.47248165727730984\n",
            "epoch 7/20 loss:0.5515794900667818\n",
            "epoch 8/20 loss:0.40254073081552966\n",
            "epoch 9/20 loss:0.49878689263792886\n",
            "epoch 10/20 loss:0.45497566595256284\n",
            "epoch 11/20 loss:0.4474390624056572\n",
            "epoch 12/20 loss:0.3505972409127257\n",
            "epoch 13/20 loss:0.397414676280218\n",
            "epoch 14/20 loss:0.3271373882145463\n",
            "epoch 15/20 loss:0.3737898635956313\n",
            "epoch 16/20 loss:0.37762890956181516\n",
            "epoch 17/20 loss:0.19907659794960086\n",
            "epoch 18/20 loss:0.35039653494364564\n",
            "epoch 19/20 loss:0.3149442609155888\n",
            "epoch 20/20 loss:0.28615095005088265\n"
          ],
          "name": "stdout"
        }
      ]
    },
    {
      "cell_type": "code",
      "metadata": {
        "ExecuteTime": {
          "end_time": "2020-06-13T07:32:20.969898Z",
          "start_time": "2020-06-13T07:32:20.842544Z"
        },
        "id": "UjWRIcHZl69D",
        "colab_type": "code",
        "colab": {},
        "outputId": "c7bcff45-72b2-4577-9140-b7bc6105cbc2"
      },
      "source": [
        "import matplotlib.pyplot as plt\n",
        "plt.title(\"loss\")\n",
        "plt.xlabel(\"epoch\")\n",
        "plt.ylabel(\"loss\")\n",
        "plt.plot(loss_hist)"
      ],
      "execution_count": null,
      "outputs": [
        {
          "output_type": "execute_result",
          "data": {
            "text/plain": [
              "[<matplotlib.lines.Line2D at 0x21c26187448>]"
            ]
          },
          "metadata": {
            "tags": []
          },
          "execution_count": 327
        },
        {
          "output_type": "display_data",
          "data": {
            "image/png": "[encoded data removed]",
            "text/plain": [
              "<Figure size 432x288 with 1 Axes>"
            ]
          },
          "metadata": {
            "tags": [],
            "needs_background": "light"
          }
        }
      ]
    },
    {
      "cell_type": "code",
      "metadata": {
        "ExecuteTime": {
          "end_time": "2020-06-13T07:31:26.146933Z",
          "start_time": "2020-06-13T07:31:26.093518Z"
        },
        "id": "27yDJf2ll69G",
        "colab_type": "code",
        "colab": {}
      },
      "source": [
        "y_pred=nn_predict(x_test,W1,b1,W2,b2)"
      ],
      "execution_count": null,
      "outputs": []
    },
    {
      "cell_type": "code",
      "metadata": {
        "ExecuteTime": {
          "end_time": "2020-06-13T07:33:25.114087Z",
          "start_time": "2020-06-13T07:33:25.109095Z"
        },
        "id": "UyiVJ3uPl69I",
        "colab_type": "code",
        "colab": {},
        "outputId": "d0ad6003-4007-4562-cdce-b24b522c9761"
      },
      "source": [
        "import sklearn\n",
        "print(\"Accuracy on test data:\",sklearn.metrics.accuracy_score(y_pred,y_test))"
      ],
      "execution_count": null,
      "outputs": [
        {
          "output_type": "stream",
          "text": [
            "Accuracy on test data: 0.9184\n"
          ],
          "name": "stdout"
        }
      ]
    }
  ]
}